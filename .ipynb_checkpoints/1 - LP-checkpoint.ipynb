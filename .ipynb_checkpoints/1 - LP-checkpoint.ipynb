{
 "cells": [
  {
   "cell_type": "markdown",
   "id": "9195893f-cda6-41f1-a2c2-29627bdc0a77",
   "metadata": {},
   "source": [
    "If you are running this on Google Colab, you need to uncomment (remove the `#`) and execute the following lines to install the Pyomo package, the solver, and some helper tools. If you are running this on Binder or elsewhere (e.g. your own computer) you can ignore this."
   ]
  },
  {
   "cell_type": "code",
   "execution_count": 1,
   "id": "498eca95-d5e7-4de5-ad3d-c82a6f66eb01",
   "metadata": {},
   "outputs": [],
   "source": [
    "# !pip install pyomo==6.4.1\n",
    "# !apt install glpk-utils\n",
    "# !pip install \"git+https://github.com/sjpfenninger/sen1511.git#egg=sen1511utils&subdirectory=sen1511utils\""
   ]
  },
  {
   "cell_type": "code",
   "execution_count": 2,
   "id": "1086144f-da10-4679-962a-7dd7ab4c1538",
   "metadata": {},
   "outputs": [],
   "source": [
    "import pyomo.environ as pyo\n",
    "\n",
    "from sen1511utils import summarise_results"
   ]
  },
  {
   "cell_type": "markdown",
   "id": "af0430fd",
   "metadata": {},
   "source": [
    "# Assignment 1 - Linear Programming (LP)"
   ]
  },
  {
   "cell_type": "markdown",
   "id": "cebbbefd-95ee-46cd-b012-ef0e13d8a14a",
   "metadata": {},
   "source": [
    "## 4."
   ]
  },
  {
   "cell_type": "markdown",
   "id": "c141aebc-ef45-416a-b5c7-5a3f9dac0c64",
   "metadata": {},
   "source": [
    "Consider two generating units supplying at least the system demand P_total,D=650 MW for the coming hour (extra power above the system demand will be used for storage, which is assumed to be unlimited). The unit cost function is characterized by the parameters provided in the table below:\n",
    "\n",
    "| Unit | Generation costs (EUR/MWh) | P_min,G (MW) | P_max,G (MW) |\n",
    "|:---|---:|---:|---:|\n",
    "| 1 | 35 | 0 | 600 |\n",
    "| 2 | 55 | 100 | 300 |\n",
    "\n",
    "Tasks 4.a) through 4.c) are solved on paper."
   ]
  },
  {
   "cell_type": "markdown",
   "id": "1ea58c20",
   "metadata": {},
   "source": [
    "### 4.d)"
   ]
  },
  {
   "cell_type": "markdown",
   "id": "a259d7c6-9950-4adf-b69c-f265fdb66cc3",
   "metadata": {},
   "source": [
    "Solve the problem in Python and specifically examine the shadow prices delivered by Pyomo for the optimal solution. Compare your solutions here with your answers above."
   ]
  },
  {
   "cell_type": "code",
   "execution_count": null,
   "id": "e2390c32-ebbc-48d4-9172-44a755a85864",
   "metadata": {},
   "outputs": [],
   "source": []
  },
  {
   "cell_type": "markdown",
   "id": "dd3cec9c",
   "metadata": {},
   "source": [
    "### 4.e)"
   ]
  },
  {
   "cell_type": "markdown",
   "id": "10984353-d2e1-4f99-a129-8e6a37d1c6c6",
   "metadata": {},
   "source": [
    "Formulate and solve the dual problem in Python to calculate the shadow prices yourself. What do you observe regarding the solution of the primal and the dual problem?"
   ]
  },
  {
   "cell_type": "markdown",
   "id": "ce01f0f2-b1cf-4bb2-9e2b-8cdb5e6fba62",
   "metadata": {},
   "source": [
    "<div class=\"alert alert-block alert-info\">\n",
    "\n",
    "💡 You do not need to call every model `model`. For example, if you call the dual model `dual_model` instead of `model`, the original (primal) model is still available as well, if you want to analyse it further in this same Python session.\n",
    "\n",
    "</div>"
   ]
  },
  {
   "cell_type": "code",
   "execution_count": null,
   "id": "59b9d4cb-1d14-4d92-9c9f-6c8b0cf1c2b3",
   "metadata": {},
   "outputs": [],
   "source": []
  },
  {
   "cell_type": "markdown",
   "id": "6d1b32b2-5049-4aaf-9125-24baaf13a429",
   "metadata": {},
   "source": [
    "## 5"
   ]
  },
  {
   "cell_type": "markdown",
   "id": "f2fe52e7-cf83-4bf0-86c7-eae513957130",
   "metadata": {},
   "source": [
    "### 5.a)"
   ]
  },
  {
   "cell_type": "code",
   "execution_count": null,
   "id": "38829e43-d4a2-4625-a2cb-82f3f6ae44c0",
   "metadata": {},
   "outputs": [],
   "source": []
  },
  {
   "cell_type": "markdown",
   "id": "742f1755-c7d0-44e3-b346-98fbc56ebb7d",
   "metadata": {},
   "source": [
    "### 5.b)"
   ]
  },
  {
   "cell_type": "code",
   "execution_count": null,
   "id": "3044a8d9-897c-4b82-9d25-a0f68f57028a",
   "metadata": {},
   "outputs": [],
   "source": []
  }
 ],
 "metadata": {
  "kernelspec": {
   "display_name": "Python [conda env:sen1511]",
   "language": "python",
   "name": "conda-env-sen1511-py"
  },
  "language_info": {
   "codemirror_mode": {
    "name": "ipython",
    "version": 3
   },
   "file_extension": ".py",
   "mimetype": "text/x-python",
   "name": "python",
   "nbconvert_exporter": "python",
   "pygments_lexer": "ipython3",
   "version": "3.10.5"
  }
 },
 "nbformat": 4,
 "nbformat_minor": 5
}
