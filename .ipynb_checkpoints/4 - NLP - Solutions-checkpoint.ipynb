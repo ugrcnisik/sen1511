{
 "cells": [
  {
   "cell_type": "markdown",
   "id": "9195893f-cda6-41f1-a2c2-29627bdc0a77",
   "metadata": {},
   "source": [
    "If you are running this on Google Colab, you need to uncomment (remove the `#`) and execute the following lines to install the Pyomo package, the solver, and some helper tools. If you are running this on Binder or elsewhere (e.g. your own computer) you can ignore this."
   ]
  },
  {
   "cell_type": "code",
   "execution_count": 1,
   "id": "498eca95-d5e7-4de5-ad3d-c82a6f66eb01",
   "metadata": {},
   "outputs": [],
   "source": [
    "# !pip install pyomo==6.4.1\n",
    "# !apt install coinor-libipopt-dev\n",
    "# !pip install ipopt\n",
    "# !pip install \"git+https://github.com/sjpfenninger/sen1511.git#egg=sen1511utils&subdirectory=sen1511utils\""
   ]
  },
  {
   "cell_type": "code",
   "execution_count": 2,
   "id": "1086144f-da10-4679-962a-7dd7ab4c1538",
   "metadata": {},
   "outputs": [],
   "source": [
    "import pyomo.environ as pyo\n",
    "\n",
    "from sen1511utils import summarise_results"
   ]
  },
  {
   "cell_type": "markdown",
   "id": "af0430fd",
   "metadata": {},
   "source": [
    "# Assignment 4 - Nonlinear programming (NLP)"
   ]
  },
  {
   "cell_type": "markdown",
   "id": "1ea58c20",
   "metadata": {},
   "source": [
    "## NUMBER.a)"
   ]
  },
  {
   "cell_type": "code",
   "execution_count": 3,
   "id": "a7155bd1-f185-44ee-9cb6-419ec34dc506",
   "metadata": {},
   "outputs": [
    {
     "data": {
      "text/plain": [
       "{'Problem': [{'Lower bound': -inf, 'Upper bound': inf, 'Number of objectives': 1, 'Number of constraints': 4, 'Number of variables': 3, 'Sense': 'unknown'}], 'Solver': [{'Status': 'ok', 'Message': 'Ipopt 3.14.9\\\\x3a Optimal Solution Found', 'Termination condition': 'optimal', 'Id': 0, 'Error rc': 0, 'Time': 0.10702204704284668}], 'Solution': [OrderedDict([('number of solutions', 0), ('number of solutions displayed', 0)])]}"
      ]
     },
     "execution_count": 3,
     "metadata": {},
     "output_type": "execute_result"
    }
   ],
   "source": [
    "m = pyo.ConcreteModel(name = \"Economic dispatch with quadratic cost functions\")\n",
    "m.dual = pyo.Suffix(direction=pyo.Suffix.IMPORT)\n",
    "\n",
    "##\n",
    "# 1. Decision variables\n",
    "##\n",
    "\n",
    "m.PG1 = pyo.Var(domain=pyo.NonNegativeReals)\n",
    "m.PG2 = pyo.Var(domain=pyo.NonNegativeReals)\n",
    "m.PG3 = pyo.Var(domain=pyo.NonNegativeReals)\n",
    "\n",
    "##\n",
    "# 2. Objective function\n",
    "##\n",
    "\n",
    "cost_0 = 10 +    1 * m.PG1 + 0.5 *  0.1 * m.PG1**2\n",
    "cost_1 = 20 +  1.1 * m.PG2 + 0.5 * 0.05 * m.PG2**2\n",
    "cost_2 = 20 + 1.25 * m.PG3 + 0.5 *  0.1 * m.PG3**2\n",
    "\n",
    "m.cost = pyo.Objective(\n",
    "    expr = cost_0 + cost_1 + cost_2,\n",
    "    sense = pyo.minimize,\n",
    ")\n",
    "\n",
    "##\n",
    "# 3. Constraints\n",
    "##\n",
    "\n",
    "# For the case of 80 MW demand (other cases: 5 MW, 30 MW)\n",
    "m.demand = pyo.Constraint(expr = m.PG1 + m.PG2 + m.PG3 == 80)\n",
    "\n",
    "m.pg1_max = pyo.Constraint(expr = m.PG1 <= 30)\n",
    "m.pg2_max = pyo.Constraint(expr = m.PG2 <= 40)\n",
    "m.pg3_max = pyo.Constraint(expr = m.PG3 <= 50)\n",
    "\n",
    "# Solve the problem\n",
    "solver = pyo.SolverFactory('ipopt')\n",
    "solver.solve(m)"
   ]
  },
  {
   "cell_type": "code",
   "execution_count": 4,
   "id": "a8439dba-e45b-4015-ba74-711151e44e81",
   "metadata": {},
   "outputs": [
    {
     "data": {
      "text/html": [
       "<style type=\"text/css\">\n",
       "</style>\n",
       "<table id=\"T_6c5bd\" style='display:inline'>\n",
       "  <caption>Objective</caption>\n",
       "  <thead>\n",
       "    <tr>\n",
       "      <th class=\"blank level0\" >&nbsp;</th>\n",
       "      <th id=\"T_6c5bd_level0_col0\" class=\"col_heading level0 col0\" >Name</th>\n",
       "      <th id=\"T_6c5bd_level0_col1\" class=\"col_heading level0 col1\" >Value</th>\n",
       "    </tr>\n",
       "  </thead>\n",
       "  <tbody>\n",
       "    <tr>\n",
       "      <th id=\"T_6c5bd_level0_row0\" class=\"row_heading level0 row0\" >0</th>\n",
       "      <td id=\"T_6c5bd_row0_col0\" class=\"data row0 col0\" >cost</td>\n",
       "      <td id=\"T_6c5bd_row0_col1\" class=\"data row0 col1\" >218.843750</td>\n",
       "    </tr>\n",
       "  </tbody>\n",
       "</table>\n",
       "   <style type=\"text/css\">\n",
       "</style>\n",
       "<table id=\"T_179df\" style='display:inline'>\n",
       "  <caption>Variables</caption>\n",
       "  <thead>\n",
       "    <tr>\n",
       "      <th class=\"blank level0\" >&nbsp;</th>\n",
       "      <th id=\"T_179df_level0_col0\" class=\"col_heading level0 col0\" >Name</th>\n",
       "      <th id=\"T_179df_level0_col1\" class=\"col_heading level0 col1\" >Value</th>\n",
       "    </tr>\n",
       "  </thead>\n",
       "  <tbody>\n",
       "    <tr>\n",
       "      <th id=\"T_179df_level0_row0\" class=\"row_heading level0 row0\" >0</th>\n",
       "      <td id=\"T_179df_row0_col0\" class=\"data row0 col0\" >PG1</td>\n",
       "      <td id=\"T_179df_row0_col1\" class=\"data row0 col1\" >21.250000</td>\n",
       "    </tr>\n",
       "    <tr>\n",
       "      <th id=\"T_179df_level0_row1\" class=\"row_heading level0 row1\" >1</th>\n",
       "      <td id=\"T_179df_row1_col0\" class=\"data row1 col0\" >PG2</td>\n",
       "      <td id=\"T_179df_row1_col1\" class=\"data row1 col1\" >40.000000</td>\n",
       "    </tr>\n",
       "    <tr>\n",
       "      <th id=\"T_179df_level0_row2\" class=\"row_heading level0 row2\" >2</th>\n",
       "      <td id=\"T_179df_row2_col0\" class=\"data row2 col0\" >PG3</td>\n",
       "      <td id=\"T_179df_row2_col1\" class=\"data row2 col1\" >18.750000</td>\n",
       "    </tr>\n",
       "  </tbody>\n",
       "</table>\n",
       "   <style type=\"text/css\">\n",
       "</style>\n",
       "<table id=\"T_7463a\" style='display:inline'>\n",
       "  <caption>Constraints</caption>\n",
       "  <thead>\n",
       "    <tr>\n",
       "      <th class=\"blank level0\" >&nbsp;</th>\n",
       "      <th id=\"T_7463a_level0_col0\" class=\"col_heading level0 col0\" >Name</th>\n",
       "      <th id=\"T_7463a_level0_col1\" class=\"col_heading level0 col1\" >Expression</th>\n",
       "      <th id=\"T_7463a_level0_col2\" class=\"col_heading level0 col2\" >Value</th>\n",
       "      <th id=\"T_7463a_level0_col3\" class=\"col_heading level0 col3\" >Shadow price</th>\n",
       "      <th id=\"T_7463a_level0_col4\" class=\"col_heading level0 col4\" >Binding</th>\n",
       "    </tr>\n",
       "  </thead>\n",
       "  <tbody>\n",
       "    <tr>\n",
       "      <th id=\"T_7463a_level0_row0\" class=\"row_heading level0 row0\" >0</th>\n",
       "      <td id=\"T_7463a_row0_col0\" class=\"data row0 col0\" >demand</td>\n",
       "      <td id=\"T_7463a_row0_col1\" class=\"data row0 col1\" >PG1 + PG2 + PG3  ==  80</td>\n",
       "      <td id=\"T_7463a_row0_col2\" class=\"data row0 col2\" >80.000000</td>\n",
       "      <td id=\"T_7463a_row0_col3\" class=\"data row0 col3\" >3.125000</td>\n",
       "      <td id=\"T_7463a_row0_col4\" class=\"data row0 col4\" >True</td>\n",
       "    </tr>\n",
       "    <tr>\n",
       "      <th id=\"T_7463a_level0_row1\" class=\"row_heading level0 row1\" >1</th>\n",
       "      <td id=\"T_7463a_row1_col0\" class=\"data row1 col0\" >pg1_max</td>\n",
       "      <td id=\"T_7463a_row1_col1\" class=\"data row1 col1\" >PG1  <=  30</td>\n",
       "      <td id=\"T_7463a_row1_col2\" class=\"data row1 col2\" >21.250000</td>\n",
       "      <td id=\"T_7463a_row1_col3\" class=\"data row1 col3\" >-0.000000</td>\n",
       "      <td id=\"T_7463a_row1_col4\" class=\"data row1 col4\" >False</td>\n",
       "    </tr>\n",
       "    <tr>\n",
       "      <th id=\"T_7463a_level0_row2\" class=\"row_heading level0 row2\" >2</th>\n",
       "      <td id=\"T_7463a_row2_col0\" class=\"data row2 col0\" >pg2_max</td>\n",
       "      <td id=\"T_7463a_row2_col1\" class=\"data row2 col1\" >PG2  <=  40</td>\n",
       "      <td id=\"T_7463a_row2_col2\" class=\"data row2 col2\" >40.000000</td>\n",
       "      <td id=\"T_7463a_row2_col3\" class=\"data row2 col3\" >-0.025000</td>\n",
       "      <td id=\"T_7463a_row2_col4\" class=\"data row2 col4\" >True</td>\n",
       "    </tr>\n",
       "    <tr>\n",
       "      <th id=\"T_7463a_level0_row3\" class=\"row_heading level0 row3\" >3</th>\n",
       "      <td id=\"T_7463a_row3_col0\" class=\"data row3 col0\" >pg3_max</td>\n",
       "      <td id=\"T_7463a_row3_col1\" class=\"data row3 col1\" >PG3  <=  50</td>\n",
       "      <td id=\"T_7463a_row3_col2\" class=\"data row3 col2\" >18.750000</td>\n",
       "      <td id=\"T_7463a_row3_col3\" class=\"data row3 col3\" >-0.000000</td>\n",
       "      <td id=\"T_7463a_row3_col4\" class=\"data row3 col4\" >False</td>\n",
       "    </tr>\n",
       "  </tbody>\n",
       "</table>\n",
       "   "
      ],
      "text/plain": [
       "<IPython.core.display.HTML object>"
      ]
     },
     "metadata": {},
     "output_type": "display_data"
    }
   ],
   "source": [
    "summarise_results(m)"
   ]
  },
  {
   "cell_type": "markdown",
   "id": "9d780c1a-5605-4665-9dab-649f3c1f1b15",
   "metadata": {},
   "source": [
    "<div class=\"alert alert-block alert-info\">\n",
    "\n",
    "💡 As usual, you could use Python to automate - and make it easier to extend this to a larger problem with many more power plants. For example, you might specify the cost function as an actual Python function and and sum it up with `sum()` in the objective:\n",
    "\n",
    "```python\n",
    "PG = [m.PG1, m.PG2, m.PG3]\n",
    "C = [10, 20, 20]\n",
    "a = [1, 1.1, 1.25]\n",
    "b = [0.1, 0.05, 0.1]\n",
    "\n",
    "def cost(i):\n",
    "    return C[i] + a[i] * PG[i] + 0.5 * b[i] * PG[i]**2\n",
    "\n",
    "m.cost = pyo.Objective(\n",
    "    expr = sum(cost[i] for i in range(3)),\n",
    "    sense = pyo.minimize,\n",
    ")\n",
    "```\n",
    "\n",
    "</div>"
   ]
  },
  {
   "cell_type": "markdown",
   "id": "f9b0c8e0-b8fe-4bfd-93af-1a106769803c",
   "metadata": {},
   "source": [
    "## NUMBER.b)"
   ]
  },
  {
   "cell_type": "code",
   "execution_count": 5,
   "id": "c5fa8daa-0c38-49d4-ad37-52c957794eac",
   "metadata": {},
   "outputs": [
    {
     "data": {
      "text/plain": [
       "{'Problem': [{'Lower bound': -inf, 'Upper bound': inf, 'Number of objectives': 1, 'Number of constraints': 4, 'Number of variables': 3, 'Sense': 'unknown'}], 'Solver': [{'Status': 'ok', 'Message': 'Ipopt 3.14.9\\\\x3a Optimal Solution Found', 'Termination condition': 'optimal', 'Id': 0, 'Error rc': 0, 'Time': 0.02503204345703125}], 'Solution': [OrderedDict([('number of solutions', 0), ('number of solutions displayed', 0)])]}"
      ]
     },
     "execution_count": 5,
     "metadata": {},
     "output_type": "execute_result"
    }
   ],
   "source": [
    "m = pyo.ConcreteModel(name = \"Economic dispatch with quadratic cost functions and elastic demand\")\n",
    "m.dual = pyo.Suffix(direction=pyo.Suffix.IMPORT)\n",
    "\n",
    "##\n",
    "# 1. Decision variables\n",
    "##\n",
    "\n",
    "# Generation\n",
    "m.PG1 = pyo.Var(domain=pyo.NonNegativeReals)\n",
    "m.PG2 = pyo.Var(domain=pyo.NonNegativeReals)\n",
    "m.PG3 = pyo.Var(domain=pyo.NonNegativeReals)\n",
    "\n",
    "# Demand\n",
    "m.PD1 = pyo.Var(domain=pyo.NonNegativeReals)\n",
    "m.PD2 = pyo.Var(domain=pyo.NonNegativeReals)\n",
    "\n",
    "##\n",
    "# 2. Objective function\n",
    "##\n",
    "\n",
    "PG = [m.PG1, m.PG2, m.PG3]\n",
    "C = [10, 20, 20]\n",
    "a = [1, 1.1, 1.25]\n",
    "b = [0.1, 0.05, 0.1]\n",
    "\n",
    "def cost(i):\n",
    "    return C[i] + a[i] * PG[i] + 0.5 * b[i] * PG[i]**2\n",
    "\n",
    "m.cost = pyo.Objective(\n",
    "    expr = cost(0) + cost(1) + cost(2),\n",
    "    sense = pyo.minimize,\n",
    ")\n",
    "\n",
    "##\n",
    "# 3. Constraints\n",
    "##\n",
    "\n",
    "# For the case of 80 MW demand (other cases: 5 MW, 30 MW)\n",
    "m.demand = pyo.Constraint(expr = m.PG1 + m.PG2 + m.PG3 == 80)\n",
    "\n",
    "m.pg1_max = pyo.Constraint(expr = m.PG1 <= 30)\n",
    "m.pg2_max = pyo.Constraint(expr = m.PG2 <= 40)\n",
    "m.pg3_max = pyo.Constraint(expr = m.PG3 <= 50)\n",
    "\n",
    "# Solve the problem\n",
    "solver = pyo.SolverFactory('ipopt')\n",
    "solver.solve(m)"
   ]
  },
  {
   "cell_type": "code",
   "execution_count": null,
   "id": "9928047a-cbe3-4115-80b9-8f93af8f6191",
   "metadata": {},
   "outputs": [],
   "source": []
  }
 ],
 "metadata": {
  "kernelspec": {
   "display_name": "Python [conda env:sen1511]",
   "language": "python",
   "name": "conda-env-sen1511-py"
  },
  "language_info": {
   "codemirror_mode": {
    "name": "ipython",
    "version": 3
   },
   "file_extension": ".py",
   "mimetype": "text/x-python",
   "name": "python",
   "nbconvert_exporter": "python",
   "pygments_lexer": "ipython3",
   "version": "3.10.5"
  }
 },
 "nbformat": 4,
 "nbformat_minor": 5
}
