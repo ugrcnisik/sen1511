{
 "cells": [
  {
   "cell_type": "code",
   "execution_count": 1,
   "id": "382df773-328b-4bea-8e9b-465c6f421fd9",
   "metadata": {},
   "outputs": [],
   "source": [
    "# !pip install pyomo==6.4.1\n",
    "# !apt install glpk-utils\n",
    "# !pip install \"git+https://github.com/sjpfenninger/sen1511.git#egg=sen1511utils&subdirectory=sen1511utils\""
   ]
  },
  {
   "cell_type": "code",
   "execution_count": 2,
   "id": "091ccb80-d2d8-45ed-a8dd-1545133f3dbd",
   "metadata": {},
   "outputs": [
    {
     "ename": "ImportError",
     "evalue": "cannot import name 'summarise_results' from 'sen1511utils' (unknown location)",
     "output_type": "error",
     "traceback": [
      "\u001b[0;31m---------------------------------------------------------------------------\u001b[0m",
      "\u001b[0;31mImportError\u001b[0m                               Traceback (most recent call last)",
      "\u001b[0;32m/var/folders/w5/dk6ny3710vz1s6v9cv1gv6jc0000gn/T/ipykernel_46034/4032041993.py\u001b[0m in \u001b[0;36m<module>\u001b[0;34m\u001b[0m\n\u001b[1;32m      1\u001b[0m \u001b[0;32mimport\u001b[0m \u001b[0mpyomo\u001b[0m\u001b[0;34m.\u001b[0m\u001b[0menviron\u001b[0m \u001b[0;32mas\u001b[0m \u001b[0mpyo\u001b[0m\u001b[0;34m\u001b[0m\u001b[0;34m\u001b[0m\u001b[0m\n\u001b[1;32m      2\u001b[0m \u001b[0;34m\u001b[0m\u001b[0m\n\u001b[0;32m----> 3\u001b[0;31m \u001b[0;32mfrom\u001b[0m \u001b[0msen1511utils\u001b[0m \u001b[0;32mimport\u001b[0m \u001b[0msummarise_results\u001b[0m\u001b[0;34m\u001b[0m\u001b[0;34m\u001b[0m\u001b[0m\n\u001b[0m",
      "\u001b[0;31mImportError\u001b[0m: cannot import name 'summarise_results' from 'sen1511utils' (unknown location)"
     ]
    }
   ],
   "source": [
    "import pyomo.environ as pyo\n",
    "\n",
    "from sen1511utils import summarise_results"
   ]
  },
  {
   "cell_type": "markdown",
   "id": "f907635d-523a-421b-92c7-d182c810c7d1",
   "metadata": {},
   "source": [
    "## Robust Optimization"
   ]
  },
  {
   "cell_type": "markdown",
   "id": "c90e0ecb-d516-4e92-b15d-ed4a1d8e798c",
   "metadata": {},
   "source": [
    "The consumer price for the robust optimization case is assumed to deviate at most by 40% of the nominal value (which was used for the definition of the deterministic case) as defined in Table below:\n",
    "\n",
    "| Time Period| Price λ [$/kWh]|\n",
    "|:---|---:|\n",
    "|1|120|\n",
    "|2|75|\n",
    "|3|110|\n",
    "|4|60|\n",
    "\n",
    "with the exception of the first time period, when the price is perfectly known to the consumer. "
   ]
  },
  {
   "cell_type": "markdown",
   "id": "2e157b68-2862-4ea6-9a6e-bc4986397d6b",
   "metadata": {},
   "source": [
    "# Q.4)\n",
    "Now, calculate the optimal consumption schedule for deferrable load by solving the robust optimization problem that is formulated in third question!\n"
   ]
  },
  {
   "cell_type": "markdown",
   "id": "0a3f0bde-84a9-4e71-bcad-1e886ec87105",
   "metadata": {},
   "source": [
    "Note: Tasks 1) through 3) are solved on paper."
   ]
  },
  {
   "cell_type": "code",
   "execution_count": 22,
   "id": "001de980-9648-4e21-a230-a88ab8c8a11a",
   "metadata": {},
   "outputs": [
    {
     "name": "stdout",
     "output_type": "stream",
     "text": [
      "WARNING: Could not locate the 'glpsol' executable, which is required for\n",
      "    solver 'glpk'\n"
     ]
    },
    {
     "ename": "ApplicationError",
     "evalue": "No executable found for solver 'glpk'",
     "output_type": "error",
     "traceback": [
      "\u001b[0;31m---------------------------------------------------------------------------\u001b[0m",
      "\u001b[0;31mApplicationError\u001b[0m                          Traceback (most recent call last)",
      "\u001b[0;32m/var/folders/w5/dk6ny3710vz1s6v9cv1gv6jc0000gn/T/ipykernel_44891/3923555227.py\u001b[0m in \u001b[0;36m<module>\u001b[0;34m\u001b[0m\n\u001b[1;32m     56\u001b[0m \u001b[0;31m# # Solve the problem\u001b[0m\u001b[0;34m\u001b[0m\u001b[0;34m\u001b[0m\u001b[0m\n\u001b[1;32m     57\u001b[0m \u001b[0msolver\u001b[0m \u001b[0;34m=\u001b[0m \u001b[0mpyo\u001b[0m\u001b[0;34m.\u001b[0m\u001b[0mSolverFactory\u001b[0m\u001b[0;34m(\u001b[0m\u001b[0;34m'glpk'\u001b[0m\u001b[0;34m)\u001b[0m\u001b[0;34m\u001b[0m\u001b[0;34m\u001b[0m\u001b[0m\n\u001b[0;32m---> 58\u001b[0;31m \u001b[0msolver\u001b[0m\u001b[0;34m.\u001b[0m\u001b[0msolve\u001b[0m\u001b[0;34m(\u001b[0m\u001b[0mm\u001b[0m\u001b[0;34m)\u001b[0m\u001b[0;34m\u001b[0m\u001b[0;34m\u001b[0m\u001b[0m\n\u001b[0m",
      "\u001b[0;32m~/opt/anaconda3/lib/python3.9/site-packages/pyomo/opt/base/solvers.py\u001b[0m in \u001b[0;36msolve\u001b[0;34m(self, *args, **kwds)\u001b[0m\n\u001b[1;32m    511\u001b[0m         \u001b[0;34m\"\"\" Solve the problem \"\"\"\u001b[0m\u001b[0;34m\u001b[0m\u001b[0;34m\u001b[0m\u001b[0m\n\u001b[1;32m    512\u001b[0m \u001b[0;34m\u001b[0m\u001b[0m\n\u001b[0;32m--> 513\u001b[0;31m         \u001b[0mself\u001b[0m\u001b[0;34m.\u001b[0m\u001b[0mavailable\u001b[0m\u001b[0;34m(\u001b[0m\u001b[0mexception_flag\u001b[0m\u001b[0;34m=\u001b[0m\u001b[0;32mTrue\u001b[0m\u001b[0;34m)\u001b[0m\u001b[0;34m\u001b[0m\u001b[0;34m\u001b[0m\u001b[0m\n\u001b[0m\u001b[1;32m    514\u001b[0m         \u001b[0;31m#\u001b[0m\u001b[0;34m\u001b[0m\u001b[0;34m\u001b[0m\u001b[0m\n\u001b[1;32m    515\u001b[0m         \u001b[0;31m# If the inputs are models, then validate that they have been\u001b[0m\u001b[0;34m\u001b[0m\u001b[0;34m\u001b[0m\u001b[0m\n",
      "\u001b[0;32m~/opt/anaconda3/lib/python3.9/site-packages/pyomo/opt/solver/shellcmd.py\u001b[0m in \u001b[0;36mavailable\u001b[0;34m(self, exception_flag)\u001b[0m\n\u001b[1;32m    127\u001b[0m             \u001b[0;32mif\u001b[0m \u001b[0mexception_flag\u001b[0m\u001b[0;34m:\u001b[0m\u001b[0;34m\u001b[0m\u001b[0;34m\u001b[0m\u001b[0m\n\u001b[1;32m    128\u001b[0m                 \u001b[0mmsg\u001b[0m \u001b[0;34m=\u001b[0m \u001b[0;34m\"No executable found for solver '%s'\"\u001b[0m\u001b[0;34m\u001b[0m\u001b[0;34m\u001b[0m\u001b[0m\n\u001b[0;32m--> 129\u001b[0;31m                 \u001b[0;32mraise\u001b[0m \u001b[0mApplicationError\u001b[0m\u001b[0;34m(\u001b[0m\u001b[0mmsg\u001b[0m \u001b[0;34m%\u001b[0m \u001b[0mself\u001b[0m\u001b[0;34m.\u001b[0m\u001b[0mname\u001b[0m\u001b[0;34m)\u001b[0m\u001b[0;34m\u001b[0m\u001b[0;34m\u001b[0m\u001b[0m\n\u001b[0m\u001b[1;32m    130\u001b[0m             \u001b[0;32mreturn\u001b[0m \u001b[0;32mFalse\u001b[0m\u001b[0;34m\u001b[0m\u001b[0;34m\u001b[0m\u001b[0m\n\u001b[1;32m    131\u001b[0m         \u001b[0;32mreturn\u001b[0m \u001b[0;32mTrue\u001b[0m\u001b[0;34m\u001b[0m\u001b[0;34m\u001b[0m\u001b[0m\n",
      "\u001b[0;31mApplicationError\u001b[0m: No executable found for solver 'glpk'"
     ]
    }
   ],
   "source": [
    "m = pyo.ConcreteModel(name = \"Robust Model\")\n",
    "m.dual = pyo.Suffix(direction=pyo.Suffix.IMPORT)\n",
    "\n",
    "##\n",
    "# 1. Decision variables\n",
    "##\n",
    "\n",
    "m.u1 = pyo.Var(domain=pyo.NonNegativeReals)\n",
    "m.u2 = pyo.Var(domain=pyo.NonNegativeReals)\n",
    "m.u3 = pyo.Var(domain=pyo.NonNegativeReals)\n",
    "m.u4 = pyo.Var(domain=pyo.NonNegativeReals)\n",
    "m.eps2 = pyo.Var(domain=pyo.NonNegativeReals)\n",
    "m.eps3 = pyo.Var(domain=pyo.NonNegativeReals)\n",
    "m.eps4 = pyo.Var(domain=pyo.NonNegativeReals)\n",
    "m.beta = pyo.Var(domain=pyo.NonNegativeReals)\n",
    "\n",
    "##\n",
    "# 2. Objective function\n",
    "##\n",
    "\n",
    "m.cost = pyo.Objective(\n",
    "    expr = (120*m.u1 - 100*m.u1 - 100*(m.u2 + m.u3 + m.u4) + m.eps2 + m.eps3 + m.eps4 + 2*m.beta + 75*m.u2 + 110*m.u3 + 60*m.u4),\n",
    "    sense = pyo.minimize,\n",
    ")\n",
    "\n",
    "\n",
    "##\n",
    "# 3. Constraints\n",
    "##\n",
    "\n",
    "m.epsbeta2 = pyo.Constraint(expr = m.eps2  + m.beta >= 30 * m.u2)\n",
    "m.epsbeta3 = pyo.Constraint(expr = m.eps3  + m.beta >= 44 * m.u3)\n",
    "m.epsbeta4 = pyo.Constraint(expr = m.eps4  + m.beta >= 24 * m.u4)\n",
    "\n",
    "# Per-hour max constraint \n",
    "m.cu1 = pyo.Constraint(expr=m.u1 <= 3)\n",
    "m.cu2 = pyo.Constraint(expr=m.u2 <= 3)\n",
    "m.cu3 = pyo.Constraint(expr=m.u3 <= 3)\n",
    "m.cu4 = pyo.Constraint(expr=m.u4 <= 3)\n",
    "\n",
    "# Ramping\n",
    "m.u0 = 0\n",
    "m.ramp_up1   = pyo.Constraint(expr = m.u1 - m.u0 <= 1.5)  \n",
    "m.ramp_down1 = pyo.Constraint(expr = m.u0 - m.u1 <= 1.5) \n",
    "m.ramp_up2   = pyo.Constraint(expr = m.u2 - m.u1 <= 1.5)  \n",
    "m.ramp_down2 = pyo.Constraint(expr = m.u1 - m.u2 <= 1.5)\n",
    "m.ramp_up3   = pyo.Constraint(expr = m.u3 - m.u2 <= 1.5)  \n",
    "m.ramp_down3 = pyo.Constraint(expr = m.u2 - m.u3 <= 1.5)\n",
    "m.ramp_up4   = pyo.Constraint(expr = m.u4 - m.u3 <= 1.5)  \n",
    "m.ramp_down4 = pyo.Constraint(expr = m.u3 - m.u4 <= 1.5)\n",
    "\n",
    "# Total Production\n",
    "m.maxsum = pyo.Constraint(expr=m.u1+m.u2+m.u3+m.u4 <= 8)\n",
    "m.minsum = pyo.Constraint(expr=m.u1+m.u2+m.u3+m.u4 >= 6)\n",
    "\n",
    "# # Solve the problem\n",
    "solver = pyo.SolverFactory('glpk')\n",
    "solver.solve(m)\n"
   ]
  },
  {
   "cell_type": "code",
   "execution_count": null,
   "id": "15e0d451-94ff-4b6c-a584-55a46905cb39",
   "metadata": {},
   "outputs": [],
   "source": [
    "\n"
   ]
  },
  {
   "cell_type": "markdown",
   "id": "e1340960-eef3-42a2-a533-2d01b4460d0e",
   "metadata": {},
   "source": [
    "# Q.6)\n",
    "The results of robust optimization discussed in (Question 5) concern worst-case price realization. Take an alternative worst-case realization [120, 75, 154, 84] and report the consumer results."
   ]
  },
  {
   "cell_type": "code",
   "execution_count": null,
   "id": "122117fd-7475-45a2-8bd3-4ccea589af7c",
   "metadata": {},
   "outputs": [],
   "source": []
  },
  {
   "cell_type": "code",
   "execution_count": null,
   "id": "18751135-b202-472d-b241-008dd97943d3",
   "metadata": {},
   "outputs": [],
   "source": []
  },
  {
   "cell_type": "markdown",
   "id": "652435cf-aed3-4077-8662-bc36c4f15654",
   "metadata": {},
   "source": [
    "# Q.7)\n",
    "Calculate the optimal consumption schedule for the two different values of Γ: 0,8 and 1,2. What can you conclude about the sensitivity of the optimal schedule to Γ?"
   ]
  },
  {
   "cell_type": "code",
   "execution_count": null,
   "id": "4200de2e-d900-448e-8694-7f221e272984",
   "metadata": {},
   "outputs": [],
   "source": []
  }
 ],
 "metadata": {
  "kernelspec": {
   "display_name": "Python 3 (ipykernel)",
   "language": "python",
   "name": "python3"
  },
  "language_info": {
   "codemirror_mode": {
    "name": "ipython",
    "version": 3
   },
   "file_extension": ".py",
   "mimetype": "text/x-python",
   "name": "python",
   "nbconvert_exporter": "python",
   "pygments_lexer": "ipython3",
   "version": "3.9.7"
  }
 },
 "nbformat": 4,
 "nbformat_minor": 5
}
