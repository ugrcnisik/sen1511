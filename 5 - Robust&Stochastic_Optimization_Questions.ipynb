{
 "cells": [
  {
   "cell_type": "code",
   "execution_count": null,
   "id": "382df773-328b-4bea-8e9b-465c6f421fd9",
   "metadata": {
    "colab": {
     "base_uri": "https://localhost:8080/"
    },
    "id": "382df773-328b-4bea-8e9b-465c6f421fd9",
    "outputId": "7002dc3e-77ef-4392-efd4-3d5f63d81116"
   },
   "outputs": [],
   "source": [
    "#!pip install pyomo==6.4.1\n",
    "#!apt install glpk-utils\n",
    "#!pip install \"git+https://github.com/sjpfenninger/sen1511.git#egg=sen1511utils&subdirectory=sen1511utils\""
   ]
  },
  {
   "cell_type": "code",
   "execution_count": null,
   "id": "091ccb80-d2d8-45ed-a8dd-1545133f3dbd",
   "metadata": {
    "id": "091ccb80-d2d8-45ed-a8dd-1545133f3dbd"
   },
   "outputs": [],
   "source": [
    "import pyomo.environ as pyo\n",
    "\n",
    "from sen1511utils import summarise_results"
   ]
  },
  {
   "cell_type": "markdown",
   "id": "f907635d-523a-421b-92c7-d182c810c7d1",
   "metadata": {
    "id": "f907635d-523a-421b-92c7-d182c810c7d1"
   },
   "source": [
    "## Robust Optimization"
   ]
  },
  {
   "cell_type": "markdown",
   "id": "c90e0ecb-d516-4e92-b15d-ed4a1d8e798c",
   "metadata": {
    "id": "c90e0ecb-d516-4e92-b15d-ed4a1d8e798c"
   },
   "source": [
    "The consumer price for the robust optimization case is assumed to deviate at most by 40% of the nominal value (which was used for the definition of the deterministic case) as defined in Table below:\n",
    "\n",
    "| Time Period| Price λ [$/kWh]|\n",
    "|:---|---:|\n",
    "|1|120|\n",
    "|2|75|\n",
    "|3|110|\n",
    "|4|60|\n",
    "\n",
    "with the exception of the first time period, when the price is perfectly known to the consumer. "
   ]
  },
  {
   "cell_type": "markdown",
   "id": "2e157b68-2862-4ea6-9a6e-bc4986397d6b",
   "metadata": {
    "id": "2e157b68-2862-4ea6-9a6e-bc4986397d6b"
   },
   "source": [
    "# Q.4)\n",
    "Now, calculate the optimal consumption schedule for deferrable load by solving the robust optimization problem that is formulated in third question!\n"
   ]
  },
  {
   "cell_type": "markdown",
   "id": "0a3f0bde-84a9-4e71-bcad-1e886ec87105",
   "metadata": {
    "id": "0a3f0bde-84a9-4e71-bcad-1e886ec87105"
   },
   "source": [
    "Note: Tasks 1) through 3) are solved on paper."
   ]
  },
  {
   "cell_type": "code",
   "execution_count": null,
   "id": "001de980-9648-4e21-a230-a88ab8c8a11a",
   "metadata": {
    "colab": {
     "base_uri": "https://localhost:8080/"
    },
    "id": "001de980-9648-4e21-a230-a88ab8c8a11a",
    "outputId": "8e48ff86-d2aa-4ae6-a450-f5dd48f3a671"
   },
   "outputs": [],
   "source": []
  },
  {
   "cell_type": "markdown",
   "id": "652435cf-aed3-4077-8662-bc36c4f15654",
   "metadata": {
    "id": "652435cf-aed3-4077-8662-bc36c4f15654"
   },
   "source": [
    "# Q.7)\n",
    "Calculate the optimal consumption schedule for the two different values of Γ: 0,8 and 1,2. What can you conclude about the sensitivity of the optimal schedule to Γ?"
   ]
  },
  {
   "cell_type": "markdown",
   "id": "x_EK7AsPxHIJ",
   "metadata": {
    "id": "x_EK7AsPxHIJ"
   },
   "source": [
    "<div class=\"alert alert-block alert-info\">\n",
    "\n",
    "💡 For next question, change the parameter \"Γ=2\" which is multiplied by Beta value in the objective function to see the effect of different time periods value. Again, it does not need necessarily be an integer.\n",
    "\n",
    "</div>\n",
    "\n",
    "\n"
   ]
  },
  {
   "cell_type": "code",
   "execution_count": null,
   "id": "4200de2e-d900-448e-8694-7f221e272984",
   "metadata": {
    "colab": {
     "base_uri": "https://localhost:8080/"
    },
    "id": "4200de2e-d900-448e-8694-7f221e272984",
    "outputId": "eb916cdd-64a3-4bd8-cb2e-55c7dff4ee4f"
   },
   "outputs": [],
   "source": []
  },
  {
   "cell_type": "markdown",
   "id": "9a2f0229-6047-4e37-beca-efb32efbb16e",
   "metadata": {},
   "source": [
    "## Stochastic Programming"
   ]
  },
  {
   "cell_type": "markdown",
   "id": "93c0143b-2eee-45d7-9318-87d10b2acb57",
   "metadata": {},
   "source": [
    "In the “Text to study – Robust optimization example” we looked at the problem of an electricity consumer facing both uncertain electricity price for next week (24*7= 168hrs) and addressed this decision problem with robust optimisation.\n",
    "We now want to approach the same problem with stochastic programming. To do so we consider additionally that not only price, but also demand is uncertain. Both remain constant throughout the week. \n",
    "Scenario data for demand and price are provided in the table:\n",
    "\n",
    "|Scenario data for the consumer||||\n",
    "|:---|---:|---:|---:|\n",
    "| Scenario # | Probability (per unit) | Demand [MW]| Price [€/MWh]|\n",
    "|1|0.2|110|50|\n",
    "|2|0.6|100|46|\n",
    "|3|0.2|80 |44|\n",
    "\n",
    "The rest of the problem remains the same: the consumer has the possibility of buying up to 90 MW at €45/MWh throughout next week, by signing a bilateral contract before next week, i.e., before knowing the actual demand and pool price it has to face.\n",
    "\n",
    "The decision-making problem of this consumer can be formulated as a stochastic programming problem: the consumer has to decide how much to buy from the contract PC, and to decide his pool purchases for each of the three considered demand/price realizations (scenarios) P1, P2, and P3.\n",
    "\n",
    "The objective function is the expected cost faced by the consumer to supply its uncertain demand.\n"
   ]
  },
  {
   "cell_type": "markdown",
   "id": "57632d06-ba88-4c95-8bb7-0493d9ef6333",
   "metadata": {},
   "source": [
    "# Q.9)\n",
    "Solve the problem and provide the objective function value and the optimal decisions.\n"
   ]
  },
  {
   "cell_type": "markdown",
   "id": "9f6486a8-64ba-4178-b4a8-5acef3f84de8",
   "metadata": {},
   "source": [
    "Note: Tasks 1) through 2.c) are solved on paper."
   ]
  },
  {
   "cell_type": "code",
   "execution_count": null,
   "id": "fab8bf32-ceb9-4361-83d3-387929ea712e",
   "metadata": {},
   "outputs": [],
   "source": []
  }
 ],
 "metadata": {
  "colab": {
   "collapsed_sections": [],
   "provenance": []
  },
  "kernelspec": {
   "display_name": "Python 3 (ipykernel)",
   "language": "python",
   "name": "python3"
  },
  "language_info": {
   "codemirror_mode": {
    "name": "ipython",
    "version": 3
   },
   "file_extension": ".py",
   "mimetype": "text/x-python",
   "name": "python",
   "nbconvert_exporter": "python",
   "pygments_lexer": "ipython3",
   "version": "3.9.7"
  }
 },
 "nbformat": 4,
 "nbformat_minor": 5
}
