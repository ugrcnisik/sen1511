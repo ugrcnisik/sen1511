{
 "cells": [
  {
   "cell_type": "markdown",
   "id": "9195893f-cda6-41f1-a2c2-29627bdc0a77",
   "metadata": {
    "id": "9195893f-cda6-41f1-a2c2-29627bdc0a77"
   },
   "source": [
    "If you are running this on Google Colab, you need to uncomment (remove the `#`) and execute the following lines to install the Pyomo package, the solver, and some helper tools. If you are running this on Binder or elsewhere (e.g. your own computer) you can ignore this."
   ]
  },
  {
   "cell_type": "code",
   "execution_count": null,
   "id": "498eca95-d5e7-4de5-ad3d-c82a6f66eb01",
   "metadata": {
    "id": "498eca95-d5e7-4de5-ad3d-c82a6f66eb01",
    "tags": []
   },
   "outputs": [],
   "source": [
    "# !pip install pyomo==6.4.1\n",
    "# !apt install glpk-utils\n",
    "# !pip install \"git+https://github.com/sjpfenninger/sen1511.git#egg=sen1511utils&subdirectory=sen1511utils\""
   ]
  },
  {
   "cell_type": "code",
   "execution_count": null,
   "id": "1086144f-da10-4679-962a-7dd7ab4c1538",
   "metadata": {
    "id": "1086144f-da10-4679-962a-7dd7ab4c1538"
   },
   "outputs": [],
   "source": [
    "import pyomo.environ as pyo\n",
    "\n",
    "from sen1511utils import summarise_results"
   ]
  },
  {
   "cell_type": "markdown",
   "id": "af0430fd",
   "metadata": {
    "id": "af0430fd"
   },
   "source": [
    "# Assignment 2 - Mixed-integer linear programming (MILP)"
   ]
  },
  {
   "cell_type": "markdown",
   "id": "1ea58c20",
   "metadata": {
    "id": "1ea58c20"
   },
   "source": [
    "## 4)"
   ]
  },
  {
   "cell_type": "markdown",
   "id": "6193a7e2-9b54-4bca-a511-e0b366e07ba5",
   "metadata": {
    "id": "6193a7e2-9b54-4bca-a511-e0b366e07ba5"
   },
   "source": [
    "Consider three generating units and two demands. Each unit offers three blocks, while each demand bids four blocks. The technical characteristics of the generating units are given in the table as follows:\n",
    "\n",
    "| Unit Data | Unit 1 | Unit 2 | Unit 3|\n",
    "|:---|---:|---:|---:|\n",
    "| Capacity (MW) | 30 | 25 | 25 |\n",
    "| Minimum Power Output (MW) | 5 | 8 | 10 |\n",
    "| Ramp up/down limit (MW/h) | 5 | 10 | 10 |\n",
    "| Initial Status (on/off) | on | on | on |\n",
    "| Initial power output (MW) | 10 | 15 | 10 |\n",
    "\n",
    "Offers by generators and bids by demands are as follows:\n",
    "\n",
    "| Offers | Unit 1 | Unit 2 | Unit 3|\n",
    "|:---|---:|---:|---:|\n",
    "| Block |  1 2 3  |  1 2 3   |  1 2 3   |\n",
    "| Power (MW) | 5 12 13 |  8 8 9  | 10 10 5 |\n",
    "| Price ($/MWh) | 1 3 3.5 | 4.5 5 6 |  8 9 10 |\n",
    "\n",
    "\n",
    "| Bids | Demand 1 | Demand 2 |\n",
    "|:---|---:|---:|\n",
    "| Block |  1 2 3 4 |  1 2 3 4  | \n",
    "| Energy (MWh) | 6 5 5 3 |   5 4 4 3 |\n",
    "| Price ($/MWh) | 20 15 7 4 | 18 16 11 3 |\n",
    "\n",
    "Task 4.a) is solved on paper."
   ]
  },
  {
   "cell_type": "markdown",
   "id": "b161c6d3-2c36-44a4-927b-84c6821af5ed",
   "metadata": {
    "id": "b161c6d3-2c36-44a4-927b-84c6821af5ed",
    "tags": []
   },
   "source": [
    "## 4.b)"
   ]
  },
  {
   "cell_type": "markdown",
   "id": "82eeeaa2-8a79-4c0b-8630-52bd1b7405b4",
   "metadata": {
    "id": "82eeeaa2-8a79-4c0b-8630-52bd1b7405b4"
   },
   "source": [
    "Calculate the market clearing price and the social welfare in Python for the following cases:\n"
   ]
  },
  {
   "cell_type": "markdown",
   "id": "58a985a0-ac0c-4817-9f1a-7f00d2b99b12",
   "metadata": {
    "id": "58a985a0-ac0c-4817-9f1a-7f00d2b99b12"
   },
   "source": [
    "## Case 4.b.1:\n",
    "Minimum power output and ramping constraints are not taken into account"
   ]
  },
  {
   "cell_type": "code",
   "execution_count": null,
   "id": "ecf0360f",
   "metadata": {
    "id": "ecf0360f"
   },
   "outputs": [],
   "source": []
  },
  {
   "cell_type": "code",
   "execution_count": null,
   "id": "a8439dba-e45b-4015-ba74-711151e44e81",
   "metadata": {
    "id": "a8439dba-e45b-4015-ba74-711151e44e81"
   },
   "outputs": [],
   "source": []
  },
  {
   "cell_type": "markdown",
   "id": "0eee0f5f-1e4e-40a0-a79f-052165a322ec",
   "metadata": {
    "id": "0eee0f5f-1e4e-40a0-a79f-052165a322ec"
   },
   "source": [
    "## Case 4.b.2:\n",
    "Minimum power output and ramping constraints are taken into account!"
   ]
  },
  {
   "cell_type": "code",
   "execution_count": null,
   "id": "92202b28-e504-4042-adc0-63e80e1ad4f8",
   "metadata": {
    "id": "92202b28-e504-4042-adc0-63e80e1ad4f8"
   },
   "outputs": [],
   "source": []
  },
  {
   "cell_type": "code",
   "execution_count": null,
   "id": "FCxFmeNZ2T1G",
   "metadata": {
    "id": "FCxFmeNZ2T1G"
   },
   "outputs": [],
   "source": []
  },
  {
   "cell_type": "markdown",
   "id": "49c464e6-4ab3-4a50-ac3b-517e3071e033",
   "metadata": {
    "id": "49c464e6-4ab3-4a50-ac3b-517e3071e033",
    "tags": []
   },
   "source": [
    "## Getting the market clearing price"
   ]
  },
  {
   "cell_type": "markdown",
   "id": "hWo4GOzs4ipm",
   "metadata": {
    "id": "hWo4GOzs4ipm"
   },
   "source": [
    "To get the clearing price, we need to get shadow prices from the model. We want to know the shadow price of the market clearing constraint (called `market_clearing` in our formulation above).\n",
    "\n",
    "Recall that in LP problems, the optimal solution of the dual problem gives us the shadow prices for the primal problem. The solver can do this automatically for us.\n",
    "\n",
    "So, to obtain shadow prices, we turn the model from MILP to LP by fixing the integer variables.\n"
   ]
  },
  {
   "cell_type": "code",
   "execution_count": null,
   "id": "0b6d02e4-4590-4bad-9536-6cccf4c1caaf",
   "metadata": {},
   "outputs": [],
   "source": []
  },
  {
   "cell_type": "code",
   "execution_count": null,
   "id": "fc7faf7c-420c-4422-990b-c8e1c1959489",
   "metadata": {},
   "outputs": [],
   "source": []
  },
  {
   "cell_type": "markdown",
   "id": "43e2c369-c53e-4106-a214-6fc22c95ed3d",
   "metadata": {
    "id": "43e2c369-c53e-4106-a214-6fc22c95ed3d"
   },
   "source": [
    "## 5) Unit Commitment and Mixed Integer Programming"
   ]
  },
  {
   "cell_type": "markdown",
   "id": "734fe645-81df-4974-a124-c417d2b9fa83",
   "metadata": {
    "id": "734fe645-81df-4974-a124-c417d2b9fa83"
   },
   "source": [
    "Formulate Multiperiod Unit Commitment problem for four periods to satisfy the expected demand given below:\n",
    "\n",
    "| Period | PtD (MW) | \n",
    "|:---|---:|\n",
    "| 1 | 40 | \n",
    "| 2 | 250 | \n",
    "| 3 | 300 |\n",
    "| 4 | 600| \n",
    "\n",
    "and the following known characteristics of the three production units:\n",
    "\n",
    "| Unit | 1 | 2 | 3 |\n",
    "|:---|---:|---:|---:|\n",
    "| PGmin (MW) | 0 | 0 | 0 |\n",
    "| PGmax (MW) | 400 | 300 | 250|\n",
    "| RampUp limit (MW/h) | 160 | 150 | 100 |\n",
    "| RampDown limit (MW/h) | 160 | 150 | 100 |\n",
    "| Initial Power Output (MW) | 0 | 0 | 0 |\n",
    "| Initial Status | off | off | off |\n",
    "\n",
    "The generation cost of each unit specified by the function Cjt(ujt,PGjt) - in other words, it depends on both whether the unit is running and how much electricity is producing:\n",
    "\n",
    "Cjt(ujt,PGjt) = C0 * ujt + a*PGjt\n",
    "\n",
    "The relevant parameters for the three units are:\n",
    "\n",
    "| Unit | 1 | 2 | 3 |\n",
    "|:---|---:|---:|---:|\n",
    "| C0 (﹩/h) | 100 | 200 | 300 |\n",
    "| a (﹩/MWh) | 20 | 25 | 40 |\n",
    "\n"
   ]
  },
  {
   "cell_type": "markdown",
   "id": "3178d1cc-63ee-4a54-82a2-494e5c9ccaa4",
   "metadata": {
    "id": "3178d1cc-63ee-4a54-82a2-494e5c9ccaa4"
   },
   "source": [
    "Note: b)\tAfter the problem formulation for Case 5.a.1 is done and the implementation in Python is finished, formulate two new cases for this problem and solve them in Python:"
   ]
  },
  {
   "cell_type": "markdown",
   "id": "d77514ea-76c2-416c-a453-641974bde12b",
   "metadata": {
    "id": "d77514ea-76c2-416c-a453-641974bde12b"
   },
   "source": [
    "# Case 5.b.1\n",
    "In this first case, do not include ramping limits. In the problem formulation specify: \n",
    "\n",
    "•\tdecision variables (degrees of freedom)\n",
    "\n",
    "•\tobjective function\n",
    "\n",
    "•\tthe constraints\n",
    "\n",
    "•\ttype of optimization problem\n",
    "\n",
    "After formulating it, implement and solve the problem with Python.\n"
   ]
  },
  {
   "cell_type": "code",
   "execution_count": null,
   "id": "f306ee3a-088a-439e-b52a-c694f67a80c2",
   "metadata": {},
   "outputs": [],
   "source": []
  },
  {
   "cell_type": "code",
   "execution_count": null,
   "id": "9bac0f31-4d52-4c87-ab2f-136e72bd0f1b",
   "metadata": {},
   "outputs": [],
   "source": []
  },
  {
   "cell_type": "markdown",
   "id": "d2194c99-5b2e-4244-8d7d-fb8e41617126",
   "metadata": {
    "id": "d2194c99-5b2e-4244-8d7d-fb8e41617126"
   },
   "source": [
    "# Case 5.b.2 \n",
    "Building on the problem formulation and Python implementation of 5.a, we want to consider an additional case: the unit commitment problem from case A, but including ramping limits."
   ]
  },
  {
   "cell_type": "code",
   "execution_count": null,
   "id": "6503a48a-56f7-4629-96c7-b7c08303c8c0",
   "metadata": {},
   "outputs": [],
   "source": []
  },
  {
   "cell_type": "code",
   "execution_count": null,
   "id": "3815eafc-de57-4854-b153-cb7ef6f1d89c",
   "metadata": {},
   "outputs": [],
   "source": []
  }
 ],
 "metadata": {
  "colab": {
   "collapsed_sections": [],
   "provenance": []
  },
  "kernelspec": {
   "display_name": "Python 3 (ipykernel)",
   "language": "python",
   "name": "python3"
  },
  "language_info": {
   "codemirror_mode": {
    "name": "ipython",
    "version": 3
   },
   "file_extension": ".py",
   "mimetype": "text/x-python",
   "name": "python",
   "nbconvert_exporter": "python",
   "pygments_lexer": "ipython3",
   "version": "3.9.7"
  }
 },
 "nbformat": 4,
 "nbformat_minor": 5
}
