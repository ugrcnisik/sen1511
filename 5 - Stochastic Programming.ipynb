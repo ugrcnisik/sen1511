{
 "cells": [
  {
   "cell_type": "code",
   "execution_count": 1,
   "id": "382df773-328b-4bea-8e9b-465c6f421fd9",
   "metadata": {},
   "outputs": [],
   "source": [
    "# !pip install pyomo==6.4.1\n",
    "# !apt install glpk-utils\n",
    "# !pip install \"git+https://github.com/sjpfenninger/sen1511.git#egg=sen1511utils&subdirectory=sen1511utils\""
   ]
  },
  {
   "cell_type": "code",
   "execution_count": 2,
   "id": "091ccb80-d2d8-45ed-a8dd-1545133f3dbd",
   "metadata": {},
   "outputs": [
    {
     "ename": "ModuleNotFoundError",
     "evalue": "No module named 'pyomo'",
     "output_type": "error",
     "traceback": [
      "\u001b[0;31m---------------------------------------------------------------------------\u001b[0m",
      "\u001b[0;31mModuleNotFoundError\u001b[0m                       Traceback (most recent call last)",
      "\u001b[0;32m/var/folders/w5/dk6ny3710vz1s6v9cv1gv6jc0000gn/T/ipykernel_34154/4032041993.py\u001b[0m in \u001b[0;36m<module>\u001b[0;34m\u001b[0m\n\u001b[0;32m----> 1\u001b[0;31m \u001b[0;32mimport\u001b[0m \u001b[0mpyomo\u001b[0m\u001b[0;34m.\u001b[0m\u001b[0menviron\u001b[0m \u001b[0;32mas\u001b[0m \u001b[0mpyo\u001b[0m\u001b[0;34m\u001b[0m\u001b[0;34m\u001b[0m\u001b[0m\n\u001b[0m\u001b[1;32m      2\u001b[0m \u001b[0;34m\u001b[0m\u001b[0m\n\u001b[1;32m      3\u001b[0m \u001b[0;32mfrom\u001b[0m \u001b[0msen1511utils\u001b[0m \u001b[0;32mimport\u001b[0m \u001b[0msummarise_results\u001b[0m\u001b[0;34m\u001b[0m\u001b[0;34m\u001b[0m\u001b[0m\n",
      "\u001b[0;31mModuleNotFoundError\u001b[0m: No module named 'pyomo'"
     ]
    }
   ],
   "source": [
    "import pyomo.environ as pyo\n",
    "\n",
    "from sen1511utils import summarise_results"
   ]
  },
  {
   "cell_type": "markdown",
   "id": "f907635d-523a-421b-92c7-d182c810c7d1",
   "metadata": {},
   "source": [
    "## Stochastic Programming"
   ]
  },
  {
   "cell_type": "markdown",
   "id": "c90e0ecb-d516-4e92-b15d-ed4a1d8e798c",
   "metadata": {},
   "source": [
    "In the “Text to study – Robust optimization example” we looked at the problem of an electricity consumer facing both uncertain electricity price for next week (24*7= 168hrs) and addressed this decision problem with robust optimisation.\n",
    "We now want to approach the same problem with stochastic programming. To do so we consider additionally that not only price, but also demand is uncertain. Both remain constant throughout the week. \n",
    "Scenario data for demand and price are provided in the table:\n",
    "\n",
    "|Scenario data for the consumer||||\n",
    "|:---|---:|---:|---:|\n",
    "| Scenario # | Probability (per unit) | Demand [MW]| Price [€/MWh]|\n",
    "|1|0.2|110|50|\n",
    "|2|0.6|100|46|\n",
    "|3|0.2|80 |44|\n",
    "\n",
    "The rest of the problem remains the same: the consumer has the possibility of buying up to 90 MW at €45/MWh throughout next week, by signing a bilateral contract before next week, i.e., before knowing the actual demand and pool price it has to face.\n",
    "\n",
    "The decision-making problem of this consumer can be formulated as a stochastic programming problem: the consumer has to decide how much to buy from the contract PC, and to decide his pool purchases for each of the three considered demand/price realizations (scenarios) P1, P2, and P3.\n",
    "\n",
    "The objective function is the expected cost faced by the consumer to supply its uncertain demand.\n"
   ]
  },
  {
   "cell_type": "markdown",
   "id": "2e157b68-2862-4ea6-9a6e-bc4986397d6b",
   "metadata": {},
   "source": [
    "# Q.3)\n",
    "Solve the problem and provide the objective function value and the optimal decisions.\n"
   ]
  },
  {
   "cell_type": "markdown",
   "id": "0a3f0bde-84a9-4e71-bcad-1e886ec87105",
   "metadata": {},
   "source": [
    "Note: Tasks 1) through 2.c) are solved on paper."
   ]
  },
  {
   "cell_type": "code",
   "execution_count": 8,
   "id": "6ed86a6b-0fd8-4ba0-9d78-971c5422e01f",
   "metadata": {},
   "outputs": [
    {
     "data": {
      "text/plain": [
       "{'Problem': [{'Name': 'unknown', 'Lower bound': 747936.0, 'Upper bound': 747936.0, 'Number of objectives': 1, 'Number of constraints': 9, 'Number of variables': 5, 'Number of nonzeros': 12, 'Sense': 'minimize'}], 'Solver': [{'Status': 'ok', 'Termination condition': 'optimal', 'Statistics': {'Branch and bound': {'Number of bounded subproblems': 0, 'Number of created subproblems': 0}}, 'Error rc': 0, 'Time': 0.032181739807128906}], 'Solution': [OrderedDict([('number of solutions', 0), ('number of solutions displayed', 0)])]}"
      ]
     },
     "execution_count": 8,
     "metadata": {},
     "output_type": "execute_result"
    }
   ],
   "source": []
  },
  {
   "cell_type": "code",
   "execution_count": 9,
   "id": "83f22c50-892f-420a-8040-36cd8f25a214",
   "metadata": {},
   "outputs": [
    {
     "data": {
      "text/html": [
       "<style type=\"text/css\">\n",
       "</style>\n",
       "<table id=\"T_abbc3\" style='display:inline'>\n",
       "  <caption>Objective</caption>\n",
       "  <thead>\n",
       "    <tr>\n",
       "      <th class=\"blank level0\" >&nbsp;</th>\n",
       "      <th id=\"T_abbc3_level0_col0\" class=\"col_heading level0 col0\" >Name</th>\n",
       "      <th id=\"T_abbc3_level0_col1\" class=\"col_heading level0 col1\" >Value</th>\n",
       "    </tr>\n",
       "  </thead>\n",
       "  <tbody>\n",
       "    <tr>\n",
       "      <th id=\"T_abbc3_level0_row0\" class=\"row_heading level0 row0\" >0</th>\n",
       "      <td id=\"T_abbc3_row0_col0\" class=\"data row0 col0\" >profit</td>\n",
       "      <td id=\"T_abbc3_row0_col1\" class=\"data row0 col1\" >747936.000000</td>\n",
       "    </tr>\n",
       "  </tbody>\n",
       "</table>\n",
       "   <style type=\"text/css\">\n",
       "</style>\n",
       "<table id=\"T_03391\" style='display:inline'>\n",
       "  <caption>Variables</caption>\n",
       "  <thead>\n",
       "    <tr>\n",
       "      <th class=\"blank level0\" >&nbsp;</th>\n",
       "      <th id=\"T_03391_level0_col0\" class=\"col_heading level0 col0\" >Name</th>\n",
       "      <th id=\"T_03391_level0_col1\" class=\"col_heading level0 col1\" >Value</th>\n",
       "    </tr>\n",
       "  </thead>\n",
       "  <tbody>\n",
       "    <tr>\n",
       "      <th id=\"T_03391_level0_row0\" class=\"row_heading level0 row0\" >0</th>\n",
       "      <td id=\"T_03391_row0_col0\" class=\"data row0 col0\" >Pc</td>\n",
       "      <td id=\"T_03391_row0_col1\" class=\"data row0 col1\" >80.000000</td>\n",
       "    </tr>\n",
       "    <tr>\n",
       "      <th id=\"T_03391_level0_row1\" class=\"row_heading level0 row1\" >1</th>\n",
       "      <td id=\"T_03391_row1_col0\" class=\"data row1 col0\" >P1</td>\n",
       "      <td id=\"T_03391_row1_col1\" class=\"data row1 col1\" >30.000000</td>\n",
       "    </tr>\n",
       "    <tr>\n",
       "      <th id=\"T_03391_level0_row2\" class=\"row_heading level0 row2\" >2</th>\n",
       "      <td id=\"T_03391_row2_col0\" class=\"data row2 col0\" >P2</td>\n",
       "      <td id=\"T_03391_row2_col1\" class=\"data row2 col1\" >20.000000</td>\n",
       "    </tr>\n",
       "    <tr>\n",
       "      <th id=\"T_03391_level0_row3\" class=\"row_heading level0 row3\" >3</th>\n",
       "      <td id=\"T_03391_row3_col0\" class=\"data row3 col0\" >P3</td>\n",
       "      <td id=\"T_03391_row3_col1\" class=\"data row3 col1\" >0.000000</td>\n",
       "    </tr>\n",
       "  </tbody>\n",
       "</table>\n",
       "   <style type=\"text/css\">\n",
       "</style>\n",
       "<table id=\"T_d2027\" style='display:inline'>\n",
       "  <caption>Constraints</caption>\n",
       "  <thead>\n",
       "    <tr>\n",
       "      <th class=\"blank level0\" >&nbsp;</th>\n",
       "      <th id=\"T_d2027_level0_col0\" class=\"col_heading level0 col0\" >Name</th>\n",
       "      <th id=\"T_d2027_level0_col1\" class=\"col_heading level0 col1\" >Expression</th>\n",
       "      <th id=\"T_d2027_level0_col2\" class=\"col_heading level0 col2\" >Value</th>\n",
       "      <th id=\"T_d2027_level0_col3\" class=\"col_heading level0 col3\" >Shadow price</th>\n",
       "      <th id=\"T_d2027_level0_col4\" class=\"col_heading level0 col4\" >Binding</th>\n",
       "    </tr>\n",
       "  </thead>\n",
       "  <tbody>\n",
       "    <tr>\n",
       "      <th id=\"T_d2027_level0_row0\" class=\"row_heading level0 row0\" >0</th>\n",
       "      <td id=\"T_d2027_row0_col0\" class=\"data row0 col0\" >demand1</td>\n",
       "      <td id=\"T_d2027_row0_col1\" class=\"data row0 col1\" >110  <=  Pc + P1</td>\n",
       "      <td id=\"T_d2027_row0_col2\" class=\"data row0 col2\" >110.000000</td>\n",
       "      <td id=\"T_d2027_row0_col3\" class=\"data row0 col3\" >1680.000000</td>\n",
       "      <td id=\"T_d2027_row0_col4\" class=\"data row0 col4\" >True</td>\n",
       "    </tr>\n",
       "    <tr>\n",
       "      <th id=\"T_d2027_level0_row1\" class=\"row_heading level0 row1\" >1</th>\n",
       "      <td id=\"T_d2027_row1_col0\" class=\"data row1 col0\" >demand2</td>\n",
       "      <td id=\"T_d2027_row1_col1\" class=\"data row1 col1\" >100  <=  Pc + P2</td>\n",
       "      <td id=\"T_d2027_row1_col2\" class=\"data row1 col2\" >100.000000</td>\n",
       "      <td id=\"T_d2027_row1_col3\" class=\"data row1 col3\" >4636.800000</td>\n",
       "      <td id=\"T_d2027_row1_col4\" class=\"data row1 col4\" >True</td>\n",
       "    </tr>\n",
       "    <tr>\n",
       "      <th id=\"T_d2027_level0_row2\" class=\"row_heading level0 row2\" >2</th>\n",
       "      <td id=\"T_d2027_row2_col0\" class=\"data row2 col0\" >demand3</td>\n",
       "      <td id=\"T_d2027_row2_col1\" class=\"data row2 col1\" >80  <=  Pc + P3</td>\n",
       "      <td id=\"T_d2027_row2_col2\" class=\"data row2 col2\" >80.000000</td>\n",
       "      <td id=\"T_d2027_row2_col3\" class=\"data row2 col3\" >1243.200000</td>\n",
       "      <td id=\"T_d2027_row2_col4\" class=\"data row2 col4\" >True</td>\n",
       "    </tr>\n",
       "    <tr>\n",
       "      <th id=\"T_d2027_level0_row3\" class=\"row_heading level0 row3\" >3</th>\n",
       "      <td id=\"T_d2027_row3_col0\" class=\"data row3 col0\" >LowerLimitc</td>\n",
       "      <td id=\"T_d2027_row3_col1\" class=\"data row3 col1\" >0  <=  Pc</td>\n",
       "      <td id=\"T_d2027_row3_col2\" class=\"data row3 col2\" >80.000000</td>\n",
       "      <td id=\"T_d2027_row3_col3\" class=\"data row3 col3\" >0.000000</td>\n",
       "      <td id=\"T_d2027_row3_col4\" class=\"data row3 col4\" >False</td>\n",
       "    </tr>\n",
       "    <tr>\n",
       "      <th id=\"T_d2027_level0_row4\" class=\"row_heading level0 row4\" >4</th>\n",
       "      <td id=\"T_d2027_row4_col0\" class=\"data row4 col0\" >LowerLimit1</td>\n",
       "      <td id=\"T_d2027_row4_col1\" class=\"data row4 col1\" >0  <=  P1</td>\n",
       "      <td id=\"T_d2027_row4_col2\" class=\"data row4 col2\" >30.000000</td>\n",
       "      <td id=\"T_d2027_row4_col3\" class=\"data row4 col3\" >0.000000</td>\n",
       "      <td id=\"T_d2027_row4_col4\" class=\"data row4 col4\" >False</td>\n",
       "    </tr>\n",
       "    <tr>\n",
       "      <th id=\"T_d2027_level0_row5\" class=\"row_heading level0 row5\" >5</th>\n",
       "      <td id=\"T_d2027_row5_col0\" class=\"data row5 col0\" >LowerLimit2</td>\n",
       "      <td id=\"T_d2027_row5_col1\" class=\"data row5 col1\" >0  <=  P2</td>\n",
       "      <td id=\"T_d2027_row5_col2\" class=\"data row5 col2\" >20.000000</td>\n",
       "      <td id=\"T_d2027_row5_col3\" class=\"data row5 col3\" >0.000000</td>\n",
       "      <td id=\"T_d2027_row5_col4\" class=\"data row5 col4\" >False</td>\n",
       "    </tr>\n",
       "    <tr>\n",
       "      <th id=\"T_d2027_level0_row6\" class=\"row_heading level0 row6\" >6</th>\n",
       "      <td id=\"T_d2027_row6_col0\" class=\"data row6 col0\" >LowerLimit3</td>\n",
       "      <td id=\"T_d2027_row6_col1\" class=\"data row6 col1\" >0  <=  P3</td>\n",
       "      <td id=\"T_d2027_row6_col2\" class=\"data row6 col2\" >0.000000</td>\n",
       "      <td id=\"T_d2027_row6_col3\" class=\"data row6 col3\" >0.000000</td>\n",
       "      <td id=\"T_d2027_row6_col4\" class=\"data row6 col4\" >False</td>\n",
       "    </tr>\n",
       "    <tr>\n",
       "      <th id=\"T_d2027_level0_row7\" class=\"row_heading level0 row7\" >7</th>\n",
       "      <td id=\"T_d2027_row7_col0\" class=\"data row7 col0\" >UpperLimit2</td>\n",
       "      <td id=\"T_d2027_row7_col1\" class=\"data row7 col1\" >Pc  <=  90</td>\n",
       "      <td id=\"T_d2027_row7_col2\" class=\"data row7 col2\" >80.000000</td>\n",
       "      <td id=\"T_d2027_row7_col3\" class=\"data row7 col3\" >0.000000</td>\n",
       "      <td id=\"T_d2027_row7_col4\" class=\"data row7 col4\" >False</td>\n",
       "    </tr>\n",
       "  </tbody>\n",
       "</table>\n",
       "   "
      ],
      "text/plain": [
       "<IPython.core.display.HTML object>"
      ]
     },
     "metadata": {},
     "output_type": "display_data"
    }
   ],
   "source": []
  },
  {
   "cell_type": "code",
   "execution_count": null,
   "id": "001de980-9648-4e21-a230-a88ab8c8a11a",
   "metadata": {},
   "outputs": [],
   "source": []
  }
 ],
 "metadata": {
  "kernelspec": {
   "display_name": "Python 3 (ipykernel)",
   "language": "python",
   "name": "python3"
  },
  "language_info": {
   "codemirror_mode": {
    "name": "ipython",
    "version": 3
   },
   "file_extension": ".py",
   "mimetype": "text/x-python",
   "name": "python",
   "nbconvert_exporter": "python",
   "pygments_lexer": "ipython3",
   "version": "3.9.7"
  }
 },
 "nbformat": 4,
 "nbformat_minor": 5
}
