{
 "cells": [
  {
   "cell_type": "code",
   "execution_count": null,
   "id": "382df773-328b-4bea-8e9b-465c6f421fd9",
   "metadata": {},
   "outputs": [],
   "source": [
    "# !pip install pyomo==6.4.1\n",
    "# !apt install glpk-utils\n",
    "# !pip install \"git+https://github.com/sjpfenninger/sen1511.git#egg=sen1511utils&subdirectory=sen1511utils\""
   ]
  },
  {
   "cell_type": "code",
   "execution_count": null,
   "id": "091ccb80-d2d8-45ed-a8dd-1545133f3dbd",
   "metadata": {},
   "outputs": [],
   "source": [
    "import pyomo.environ as pyo\n",
    "\n",
    "from sen1511utils import summarise_results"
   ]
  },
  {
   "cell_type": "markdown",
   "id": "f907635d-523a-421b-92c7-d182c810c7d1",
   "metadata": {},
   "source": [
    "## Stochastic Programming"
   ]
  },
  {
   "cell_type": "markdown",
   "id": "c90e0ecb-d516-4e92-b15d-ed4a1d8e798c",
   "metadata": {},
   "source": [
    "In the “Text to study – Robust optimization example” we looked at the problem of an electricity consumer facing both uncertain electricity price for next week (24*7= 168hrs) and addressed this decision problem with robust optimisation.\n",
    "We now want to approach the same problem with stochastic programming. To do so we consider additionally that not only price, but also demand is uncertain. Both remain constant throughout the week. \n",
    "Scenario data for demand and price are provided in the table:\n",
    "\n",
    "|Scenario data for the consumer||||\n",
    "|:---|---:|---:|---:|\n",
    "| Scenario # | Probability (per unit) | Demand [MW]| Price [€/MWh]|\n",
    "|1|0.2|110|50|\n",
    "|2|0.6|100|46|\n",
    "|3|0.2|80 |44|\n",
    "\n",
    "The rest of the problem remains the same: the consumer has the possibility of buying up to 90 MW at €45/MWh throughout next week, by signing a bilateral contract before next week, i.e., before knowing the actual demand and pool price it has to face.\n",
    "\n",
    "The decision-making problem of this consumer can be formulated as a stochastic programming problem: the consumer has to decide how much to buy from the contract PC, and to decide his pool purchases for each of the three considered demand/price realizations (scenarios) P1, P2, and P3.\n",
    "\n",
    "The objective function is the expected cost faced by the consumer to supply its uncertain demand.\n"
   ]
  },
  {
   "cell_type": "markdown",
   "id": "2e157b68-2862-4ea6-9a6e-bc4986397d6b",
   "metadata": {},
   "source": [
    "# Q.3)\n",
    "Solve the problem and provide the objective function value and the optimal decisions.\n"
   ]
  },
  {
   "cell_type": "markdown",
   "id": "0a3f0bde-84a9-4e71-bcad-1e886ec87105",
   "metadata": {},
   "source": [
    "Note: Tasks 1) through 2.c) are solved on paper."
   ]
  },
  {
   "cell_type": "code",
   "execution_count": null,
   "id": "6ed86a6b-0fd8-4ba0-9d78-971c5422e01f",
   "metadata": {},
   "outputs": [],
   "source": [
    "model = pyo.ConcreteModel(name = \"Stochastic Model\")\n",
    "model.dual = pyo.Suffix(direction=pyo.Suffix.IMPORT)\n",
    "\n",
    "##\n",
    "# 1. Decision variables\n",
    "##\n",
    "\n",
    "model.Pc = pyo.Var(domain=pyo.NonNegativeReals)\n",
    "model.P1 = pyo.Var(domain=pyo.NonNegativeReals)\n",
    "model.P2 = pyo.Var(domain=pyo.NonNegativeReals)\n",
    "model.P3 = pyo.Var(domain=pyo.NonNegativeReals)\n",
    "\n",
    "##\n",
    "# 2. Objective function\n",
    "##\n",
    "\n",
    "model.profit = pyo.Objective(\n",
    "    expr = (168 * (45 * model.Pc + 0.2 * 50 * model.P1 + 0.6 * 46 * model.P2 + 0.2 * 44 * model.P3)),\n",
    "    sense = pyo.minimize,\n",
    ")\n",
    "\n",
    "##\n",
    "# 3. Constraints\n",
    "##\n",
    "\n",
    "model.demand1 = pyo.Constraint(expr = model.Pc + model.P1 >=  110)\n",
    "model.demand2= pyo.Constraint(expr = model.Pc + model.P2 >=  100)\n",
    "model.demand3 = pyo.Constraint(expr = model.Pc + model.P3 >=  80)\n",
    "\n",
    "model.LowerLimitc = pyo.Constraint(expr = model.Pc >= 0)\n",
    "model.LowerLimit1 = pyo.Constraint(expr = model.P1 >= 0)\n",
    "model.LowerLimit2 = pyo.Constraint(expr = model.P2 >= 0)\n",
    "model.LowerLimit3 = pyo.Constraint(expr = model.P3 >= 0)\n",
    "\n",
    "model.UpperLimit2 = pyo.Constraint(expr = model.Pc <= 90)\n",
    "\n",
    "# Solve the problem\n",
    "solver = pyo.SolverFactory('glpk')\n",
    "solver.solve(model)\n"
   ]
  },
  {
   "cell_type": "code",
   "execution_count": null,
   "id": "83f22c50-892f-420a-8040-36cd8f25a214",
   "metadata": {},
   "outputs": [],
   "source": [
    "summarise_results(model)"
   ]
  },
  {
   "cell_type": "code",
   "execution_count": null,
   "id": "001de980-9648-4e21-a230-a88ab8c8a11a",
   "metadata": {},
   "outputs": [],
   "source": []
  }
 ],
 "metadata": {
  "kernelspec": {
   "display_name": "Python 3 (ipykernel)",
   "language": "python",
   "name": "python3"
  },
  "language_info": {
   "codemirror_mode": {
    "name": "ipython",
    "version": 3
   },
   "file_extension": ".py",
   "mimetype": "text/x-python",
   "name": "python",
   "nbconvert_exporter": "python",
   "pygments_lexer": "ipython3",
   "version": "3.9.7"
  }
 },
 "nbformat": 4,
 "nbformat_minor": 5
}
