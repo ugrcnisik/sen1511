{
 "cells": [
  {
   "cell_type": "code",
   "execution_count": 1,
   "id": "382df773-328b-4bea-8e9b-465c6f421fd9",
   "metadata": {},
   "outputs": [],
   "source": [
    "# !pip install pyomo==6.4.1\n",
    "# !apt install glpk-utils\n",
    "# !pip install \"git+https://github.com/sjpfenninger/sen1511.git#egg=sen1511utils&subdirectory=sen1511utils\""
   ]
  },
  {
   "cell_type": "code",
   "execution_count": 2,
   "id": "091ccb80-d2d8-45ed-a8dd-1545133f3dbd",
   "metadata": {},
   "outputs": [],
   "source": [
    "import pyomo.environ as pyo\n",
    "\n",
    "from sen1511utils import summarise_results"
   ]
  },
  {
   "cell_type": "markdown",
   "id": "f907635d-523a-421b-92c7-d182c810c7d1",
   "metadata": {},
   "source": [
    "## Robust Optimization"
   ]
  },
  {
   "cell_type": "markdown",
   "id": "c90e0ecb-d516-4e92-b15d-ed4a1d8e798c",
   "metadata": {},
   "source": [
    "The consumer price for the robust optimization case is assumed to deviate at most by 40% of the nominal value (which was used for the definition of the deterministic case) as defined in Table below:\n",
    "\n",
    "| Time Period| Price λ [$/kWh]|\n",
    "|:---|---:|\n",
    "|1|120|\n",
    "|2|75|\n",
    "|3|110|\n",
    "|4|60|\n",
    "\n",
    "with the exception of the first time period, when the price is perfectly known to the consumer. "
   ]
  },
  {
   "cell_type": "markdown",
   "id": "2e157b68-2862-4ea6-9a6e-bc4986397d6b",
   "metadata": {},
   "source": [
    "# Q.4)\n",
    "Now, calculate the optimal consumption schedule for deferrable load by solving the robust optimization problem that is formulated in third question!\n"
   ]
  },
  {
   "cell_type": "markdown",
   "id": "0a3f0bde-84a9-4e71-bcad-1e886ec87105",
   "metadata": {},
   "source": [
    "Note: Tasks 1) through 3) are solved on paper."
   ]
  },
  {
   "cell_type": "code",
   "execution_count": null,
   "id": "001de980-9648-4e21-a230-a88ab8c8a11a",
   "metadata": {},
   "outputs": [],
   "source": []
  },
  {
   "cell_type": "code",
   "execution_count": null,
   "id": "15e0d451-94ff-4b6c-a584-55a46905cb39",
   "metadata": {},
   "outputs": [],
   "source": []
  },
  {
   "cell_type": "markdown",
   "id": "e1340960-eef3-42a2-a533-2d01b4460d0e",
   "metadata": {},
   "source": [
    "# Q.6)\n",
    "The results of robust optimization discussed in (Question 5) concern worst-case price realization. Take an alternative worst-case realization [120, 75, 154, 84] and report the consumer results."
   ]
  },
  {
   "cell_type": "code",
   "execution_count": null,
   "id": "122117fd-7475-45a2-8bd3-4ccea589af7c",
   "metadata": {},
   "outputs": [],
   "source": []
  },
  {
   "cell_type": "code",
   "execution_count": null,
   "id": "18751135-b202-472d-b241-008dd97943d3",
   "metadata": {},
   "outputs": [],
   "source": []
  },
  {
   "cell_type": "markdown",
   "id": "652435cf-aed3-4077-8662-bc36c4f15654",
   "metadata": {},
   "source": [
    "# Q.7)\n",
    "Calculate the optimal consumption schedule for the two different values of Γ: 0,8 and 1,2. What can you conclude about the sensitivity of the optimal schedule to Γ?"
   ]
  },
  {
   "cell_type": "code",
   "execution_count": null,
   "id": "4200de2e-d900-448e-8694-7f221e272984",
   "metadata": {},
   "outputs": [],
   "source": []
  }
 ],
 "metadata": {
  "kernelspec": {
   "display_name": "Python 3 (ipykernel)",
   "language": "python",
   "name": "python3"
  },
  "language_info": {
   "codemirror_mode": {
    "name": "ipython",
    "version": 3
   },
   "file_extension": ".py",
   "mimetype": "text/x-python",
   "name": "python",
   "nbconvert_exporter": "python",
   "pygments_lexer": "ipython3",
   "version": "3.10.5"
  }
 },
 "nbformat": 4,
 "nbformat_minor": 5
}
