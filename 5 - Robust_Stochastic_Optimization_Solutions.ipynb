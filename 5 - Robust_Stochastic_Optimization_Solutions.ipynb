{
 "cells": [
  {
   "cell_type": "code",
   "execution_count": null,
   "id": "382df773-328b-4bea-8e9b-465c6f421fd9",
   "metadata": {
    "colab": {
     "base_uri": "https://localhost:8080/"
    },
    "id": "382df773-328b-4bea-8e9b-465c6f421fd9",
    "outputId": "7002dc3e-77ef-4392-efd4-3d5f63d81116"
   },
   "outputs": [],
   "source": [
    "#!pip install pyomo==6.4.1\n",
    "#!apt install glpk-utils\n",
    "#!pip install \"git+https://github.com/sjpfenninger/sen1511.git#egg=sen1511utils&subdirectory=sen1511utils\""
   ]
  },
  {
   "cell_type": "code",
   "execution_count": null,
   "id": "091ccb80-d2d8-45ed-a8dd-1545133f3dbd",
   "metadata": {
    "id": "091ccb80-d2d8-45ed-a8dd-1545133f3dbd"
   },
   "outputs": [],
   "source": [
    "import pyomo.environ as pyo\n",
    "\n",
    "from sen1511utils import summarise_results"
   ]
  },
  {
   "cell_type": "markdown",
   "id": "f907635d-523a-421b-92c7-d182c810c7d1",
   "metadata": {
    "id": "f907635d-523a-421b-92c7-d182c810c7d1"
   },
   "source": [
    "## Robust Optimization"
   ]
  },
  {
   "cell_type": "markdown",
   "id": "c90e0ecb-d516-4e92-b15d-ed4a1d8e798c",
   "metadata": {
    "id": "c90e0ecb-d516-4e92-b15d-ed4a1d8e798c"
   },
   "source": [
    "The consumer price for the robust optimization case is assumed to deviate at most by 40% of the nominal value (which was used for the definition of the deterministic case) as defined in Table below:\n",
    "\n",
    "| Time Period| Price λ [$/kWh]|\n",
    "|:---|---:|\n",
    "|1|120|\n",
    "|2|75|\n",
    "|3|110|\n",
    "|4|60|\n",
    "\n",
    "with the exception of the first time period, when the price is perfectly known to the consumer. "
   ]
  },
  {
   "cell_type": "markdown",
   "id": "2e157b68-2862-4ea6-9a6e-bc4986397d6b",
   "metadata": {
    "id": "2e157b68-2862-4ea6-9a6e-bc4986397d6b"
   },
   "source": [
    "# Q.4)\n",
    "Now, calculate the optimal consumption schedule for deferrable load by solving the robust optimization problem that is formulated in third question!\n"
   ]
  },
  {
   "cell_type": "markdown",
   "id": "0a3f0bde-84a9-4e71-bcad-1e886ec87105",
   "metadata": {
    "id": "0a3f0bde-84a9-4e71-bcad-1e886ec87105"
   },
   "source": [
    "Note: Tasks 1) through 3) are solved on paper."
   ]
  },
  {
   "cell_type": "code",
   "execution_count": null,
   "id": "001de980-9648-4e21-a230-a88ab8c8a11a",
   "metadata": {
    "colab": {
     "base_uri": "https://localhost:8080/"
    },
    "id": "001de980-9648-4e21-a230-a88ab8c8a11a",
    "outputId": "8e48ff86-d2aa-4ae6-a450-f5dd48f3a671"
   },
   "outputs": [],
   "source": [
    "m = pyo.ConcreteModel(name = \"Robust Model\")\n",
    "m.dual = pyo.Suffix(direction=pyo.Suffix.IMPORT)\n",
    "\n",
    "##\n",
    "# 1. Decision variables\n",
    "##\n",
    "\n",
    "m.u1 = pyo.Var(domain=pyo.NonNegativeReals)\n",
    "m.u2 = pyo.Var(domain=pyo.NonNegativeReals)\n",
    "m.u3 = pyo.Var(domain=pyo.NonNegativeReals)\n",
    "m.u4 = pyo.Var(domain=pyo.NonNegativeReals)\n",
    "m.eps2 = pyo.Var(domain=pyo.NonNegativeReals)\n",
    "m.eps3 = pyo.Var(domain=pyo.NonNegativeReals)\n",
    "m.eps4 = pyo.Var(domain=pyo.NonNegativeReals)\n",
    "m.beta = pyo.Var(domain=pyo.NonNegativeReals)\n",
    "\n",
    "##\n",
    "# 2. Objective function\n",
    "##\n",
    "\n",
    "m.obj = pyo.Objective(\n",
    "    expr = (120*m.u1 - 100*m.u1 - 100*(m.u2 + m.u3 + m.u4) + m.eps2 + m.eps3 + m.eps4 + 2*m.beta + 75*m.u2 + 110*m.u3 + 60*m.u4),\n",
    "    sense = pyo.minimize,\n",
    ")\n",
    "\n",
    "\n",
    "##\n",
    "# 3. Constraints\n",
    "##\n",
    "\n",
    "m.epsbeta2 = pyo.Constraint(expr = m.eps2  + m.beta >= 30 * m.u2)\n",
    "m.epsbeta3 = pyo.Constraint(expr = m.eps3  + m.beta >= 44 * m.u3)\n",
    "m.epsbeta4 = pyo.Constraint(expr = m.eps4  + m.beta >= 24 * m.u4)\n",
    "\n",
    "# Per-hour max constraint \n",
    "m.u1max = pyo.Constraint(expr=m.u1 <= 3)\n",
    "m.u2max = pyo.Constraint(expr=m.u2 <= 3)\n",
    "m.u3max = pyo.Constraint(expr=m.u3 <= 3)\n",
    "m.u4max = pyo.Constraint(expr=m.u4 <= 3)\n",
    "\n",
    "# Ramping\n",
    "m.u0 = 0\n",
    "m.ramp_up1   = pyo.Constraint(expr = m.u1 - m.u0 <= 1.5)  \n",
    "m.ramp_down1 = pyo.Constraint(expr = m.u0 - m.u1 <= 1.5) \n",
    "m.ramp_up2   = pyo.Constraint(expr = m.u2 - m.u1 <= 1.5)  \n",
    "m.ramp_down2 = pyo.Constraint(expr = m.u1 - m.u2 <= 1.5)\n",
    "m.ramp_up3   = pyo.Constraint(expr = m.u3 - m.u2 <= 1.5)  \n",
    "m.ramp_down3 = pyo.Constraint(expr = m.u2 - m.u3 <= 1.5)\n",
    "m.ramp_up4   = pyo.Constraint(expr = m.u4 - m.u3 <= 1.5)  \n",
    "m.ramp_down4 = pyo.Constraint(expr = m.u3 - m.u4 <= 1.5)\n",
    "\n",
    "# Total Production\n",
    "m.maxsum = pyo.Constraint(expr=m.u1+m.u2+m.u3+m.u4 <= 8)\n",
    "m.minsum = pyo.Constraint(expr=m.u1+m.u2+m.u3+m.u4 >= 6)\n",
    "\n",
    "# # Solve the problem\n",
    "solver = pyo.SolverFactory('glpk')\n",
    "solver.solve(m)\n"
   ]
  },
  {
   "cell_type": "code",
   "execution_count": null,
   "id": "15e0d451-94ff-4b6c-a584-55a46905cb39",
   "metadata": {
    "colab": {
     "base_uri": "https://localhost:8080/"
    },
    "id": "15e0d451-94ff-4b6c-a584-55a46905cb39",
    "outputId": "84a8cb2c-6558-4157-d9b4-59961e303c0a"
   },
   "outputs": [],
   "source": [
    "\n",
    "summarise_results(m)"
   ]
  },
  {
   "cell_type": "markdown",
   "id": "652435cf-aed3-4077-8662-bc36c4f15654",
   "metadata": {
    "id": "652435cf-aed3-4077-8662-bc36c4f15654"
   },
   "source": [
    "# Q.7)\n",
    "Calculate the optimal consumption schedule for the two different values of Γ: 0,8 and 1,2. What can you conclude about the sensitivity of the optimal schedule to Γ?"
   ]
  },
  {
   "cell_type": "markdown",
   "id": "x_EK7AsPxHIJ",
   "metadata": {
    "id": "x_EK7AsPxHIJ"
   },
   "source": [
    "For next question, change the parameter \"Γ=2\" which is multiplied by Beta value in the objective function to see the effect of different time periods value. Again, it does not need necessarily be an integer.\n",
    "\n"
   ]
  },
  {
   "cell_type": "code",
   "execution_count": null,
   "id": "4200de2e-d900-448e-8694-7f221e272984",
   "metadata": {
    "colab": {
     "base_uri": "https://localhost:8080/"
    },
    "id": "4200de2e-d900-448e-8694-7f221e272984",
    "outputId": "eb916cdd-64a3-4bd8-cb2e-55c7dff4ee4f"
   },
   "outputs": [],
   "source": [
    "m = pyo.ConcreteModel(name = \"Robust Model with  Γ=1.2\")\n",
    "m.dual = pyo.Suffix(direction=pyo.Suffix.IMPORT)\n",
    "\n",
    "##\n",
    "# 1. Decision variables\n",
    "##\n",
    "\n",
    "m.u1 = pyo.Var(domain=pyo.NonNegativeReals)\n",
    "m.u2 = pyo.Var(domain=pyo.NonNegativeReals)\n",
    "m.u3 = pyo.Var(domain=pyo.NonNegativeReals)\n",
    "m.u4 = pyo.Var(domain=pyo.NonNegativeReals)\n",
    "m.eps2 = pyo.Var(domain=pyo.NonNegativeReals)\n",
    "m.eps3 = pyo.Var(domain=pyo.NonNegativeReals)\n",
    "m.eps4 = pyo.Var(domain=pyo.NonNegativeReals)\n",
    "m.beta = pyo.Var(domain=pyo.NonNegativeReals)\n",
    "\n",
    "##\n",
    "# 2. Objective function\n",
    "##\n",
    "\n",
    "m.obj = pyo.Objective(\n",
    "    expr = (120*m.u1 - 100*m.u1 - 100*(m.u2 + m.u3 + m.u4) + m.eps2 + m.eps3 + m.eps4 + 1.2*m.beta + 75*m.u2 + 110*m.u3 + 60*m.u4),\n",
    "    sense = pyo.minimize,\n",
    ")\n",
    "\n",
    "\n",
    "##\n",
    "# 3. Constraints\n",
    "##\n",
    "\n",
    "m.epsbeta2 = pyo.Constraint(expr = m.eps2  + m.beta >= 30 * m.u2)\n",
    "m.epsbeta3 = pyo.Constraint(expr = m.eps3  + m.beta >= 44 * m.u3)\n",
    "m.epsbeta4 = pyo.Constraint(expr = m.eps4  + m.beta >= 24 * m.u4)\n",
    "\n",
    "# Per-hour max constraint \n",
    "m.u1max = pyo.Constraint(expr=m.u1 <= 3)\n",
    "m.u2max = pyo.Constraint(expr=m.u2 <= 3)\n",
    "m.u3max = pyo.Constraint(expr=m.u3 <= 3)\n",
    "m.u4max = pyo.Constraint(expr=m.u4 <= 3)\n",
    "\n",
    "# Ramping\n",
    "m.u0 = 0\n",
    "m.ramp_up1   = pyo.Constraint(expr = m.u1 - m.u0 <= 1.5)  \n",
    "m.ramp_down1 = pyo.Constraint(expr = m.u0 - m.u1 <= 1.5) \n",
    "m.ramp_up2   = pyo.Constraint(expr = m.u2 - m.u1 <= 1.5)  \n",
    "m.ramp_down2 = pyo.Constraint(expr = m.u1 - m.u2 <= 1.5)\n",
    "m.ramp_up3   = pyo.Constraint(expr = m.u3 - m.u2 <= 1.5)  \n",
    "m.ramp_down3 = pyo.Constraint(expr = m.u2 - m.u3 <= 1.5)\n",
    "m.ramp_up4   = pyo.Constraint(expr = m.u4 - m.u3 <= 1.5)  \n",
    "m.ramp_down4 = pyo.Constraint(expr = m.u3 - m.u4 <= 1.5)\n",
    "\n",
    "# Total Production\n",
    "m.maxsum = pyo.Constraint(expr=m.u1+m.u2+m.u3+m.u4 <= 8)\n",
    "m.minsum = pyo.Constraint(expr=m.u1+m.u2+m.u3+m.u4 >= 6)\n",
    "\n",
    "# # Solve the problem\n",
    "solver = pyo.SolverFactory('glpk')\n",
    "solver.solve(m)"
   ]
  },
  {
   "cell_type": "code",
   "execution_count": null,
   "id": "wbtNEKU7y5Ra",
   "metadata": {
    "colab": {
     "base_uri": "https://localhost:8080/"
    },
    "id": "wbtNEKU7y5Ra",
    "outputId": "b144937f-92d5-4af3-fa1e-2aff7df85d3f"
   },
   "outputs": [],
   "source": [
    "summarise_results(m)"
   ]
  },
  {
   "cell_type": "code",
   "execution_count": null,
   "id": "yT_i_m-EsQce",
   "metadata": {
    "colab": {
     "base_uri": "https://localhost:8080/"
    },
    "id": "yT_i_m-EsQce",
    "outputId": "5f2a175b-2d49-4e72-eb3c-7bbab3bfc499"
   },
   "outputs": [],
   "source": [
    "m = pyo.ConcreteModel(name = \"Robust Model with  Γ=0.8\")\n",
    "m.dual = pyo.Suffix(direction=pyo.Suffix.IMPORT)\n",
    "\n",
    "##\n",
    "# 1. Decision variables\n",
    "##\n",
    "\n",
    "m.u1 = pyo.Var(domain=pyo.NonNegativeReals)\n",
    "m.u2 = pyo.Var(domain=pyo.NonNegativeReals)\n",
    "m.u3 = pyo.Var(domain=pyo.NonNegativeReals)\n",
    "m.u4 = pyo.Var(domain=pyo.NonNegativeReals)\n",
    "m.eps2 = pyo.Var(domain=pyo.NonNegativeReals)\n",
    "m.eps3 = pyo.Var(domain=pyo.NonNegativeReals)\n",
    "m.eps4 = pyo.Var(domain=pyo.NonNegativeReals)\n",
    "m.beta = pyo.Var(domain=pyo.NonNegativeReals)\n",
    "\n",
    "##\n",
    "# 2. Objective function\n",
    "##\n",
    "\n",
    "m.obj = pyo.Objective(\n",
    "    expr = (120*m.u1 - 100*m.u1 - 100*(m.u2 + m.u3 + m.u4) + m.eps2 + m.eps3 + m.eps4 + 0.8*m.beta + 75*m.u2 + 110*m.u3 + 60*m.u4),\n",
    "    sense = pyo.minimize,\n",
    ")\n",
    "\n",
    "\n",
    "##\n",
    "# 3. Constraints\n",
    "##\n",
    "\n",
    "m.epsbeta2 = pyo.Constraint(expr = m.eps2  + m.beta >= 30 * m.u2)\n",
    "m.epsbeta3 = pyo.Constraint(expr = m.eps3  + m.beta >= 44 * m.u3)\n",
    "m.epsbeta4 = pyo.Constraint(expr = m.eps4  + m.beta >= 24 * m.u4)\n",
    "\n",
    "# Per-hour max constraint \n",
    "m.u1max = pyo.Constraint(expr=m.u1 <= 3)\n",
    "m.u2max = pyo.Constraint(expr=m.u2 <= 3)\n",
    "m.u3max = pyo.Constraint(expr=m.u3 <= 3)\n",
    "m.u4max = pyo.Constraint(expr=m.u4 <= 3)\n",
    "\n",
    "# Ramping\n",
    "m.u0 = 0\n",
    "m.ramp_up1   = pyo.Constraint(expr = m.u1 - m.u0 <= 1.5)  \n",
    "m.ramp_down1 = pyo.Constraint(expr = m.u0 - m.u1 <= 1.5) \n",
    "m.ramp_up2   = pyo.Constraint(expr = m.u2 - m.u1 <= 1.5)  \n",
    "m.ramp_down2 = pyo.Constraint(expr = m.u1 - m.u2 <= 1.5)\n",
    "m.ramp_up3   = pyo.Constraint(expr = m.u3 - m.u2 <= 1.5)  \n",
    "m.ramp_down3 = pyo.Constraint(expr = m.u2 - m.u3 <= 1.5)\n",
    "m.ramp_up4   = pyo.Constraint(expr = m.u4 - m.u3 <= 1.5)  \n",
    "m.ramp_down4 = pyo.Constraint(expr = m.u3 - m.u4 <= 1.5)\n",
    "\n",
    "# Total Production\n",
    "m.maxsum = pyo.Constraint(expr=m.u1+m.u2+m.u3+m.u4 <= 8)\n",
    "m.minsum = pyo.Constraint(expr=m.u1+m.u2+m.u3+m.u4 >= 6)\n",
    "\n",
    "# # Solve the problem\n",
    "solver = pyo.SolverFactory('glpk')\n",
    "solver.solve(m)"
   ]
  },
  {
   "cell_type": "code",
   "execution_count": null,
   "id": "2oCUQTTBsWFZ",
   "metadata": {
    "colab": {
     "base_uri": "https://localhost:8080/"
    },
    "id": "2oCUQTTBsWFZ",
    "outputId": "beedfe60-fee4-4780-f1cd-b1789cad6bcc"
   },
   "outputs": [],
   "source": [
    "summarise_results(m)"
   ]
  },
  {
   "cell_type": "markdown",
   "id": "0862ef53-0276-4e1e-8c6d-655570d96698",
   "metadata": {},
   "source": [
    "## Stochastic Programming"
   ]
  },
  {
   "cell_type": "markdown",
   "id": "a9f452da-bd31-4615-bcab-e7792233ee43",
   "metadata": {},
   "source": [
    "In the “Text to study – Robust optimization example” we looked at the problem of an electricity consumer facing both uncertain electricity price for next week (24*7= 168hrs) and addressed this decision problem with robust optimisation.\n",
    "We now want to approach the same problem with stochastic programming. To do so we consider additionally that not only price, but also demand is uncertain. Both remain constant throughout the week. \n",
    "Scenario data for demand and price are provided in the table:\n",
    "\n",
    "|Scenario data for the consumer||||\n",
    "|:---|---:|---:|---:|\n",
    "| Scenario # | Probability (per unit) | Demand [MW]| Price [€/MWh]|\n",
    "|1|0.2|110|50|\n",
    "|2|0.6|100|46|\n",
    "|3|0.2|80 |44|\n",
    "\n",
    "The rest of the problem remains the same: the consumer has the possibility of buying up to 90 MW at €45/MWh throughout next week, by signing a bilateral contract before next week, i.e., before knowing the actual demand and pool price it has to face.\n",
    "\n",
    "The decision-making problem of this consumer can be formulated as a stochastic programming problem: the consumer has to decide how much to buy from the contract PC, and to decide his pool purchases for each of the three considered demand/price realizations (scenarios) P1, P2, and P3.\n",
    "\n",
    "The objective function is the expected cost faced by the consumer to supply its uncertain demand.\n"
   ]
  },
  {
   "cell_type": "markdown",
   "id": "f2821aa4-e120-4682-a2fb-6f0ba8f6e3e2",
   "metadata": {},
   "source": [
    "# Q.9)\n",
    "Solve the problem and provide the objective function value and the optimal decisions.\n"
   ]
  },
  {
   "cell_type": "markdown",
   "id": "39271ef3-0f7c-47f9-b008-9198627f15b9",
   "metadata": {},
   "source": [
    "Note: Tasks 1) through 2.c) are solved on paper."
   ]
  },
  {
   "cell_type": "code",
   "execution_count": 1,
   "id": "bb904f39-95b7-4197-bd92-1c1fb0d3a933",
   "metadata": {},
   "outputs": [
    {
     "ename": "NameError",
     "evalue": "name 'pyo' is not defined",
     "output_type": "error",
     "traceback": [
      "\u001b[0;31m---------------------------------------------------------------------------\u001b[0m",
      "\u001b[0;31mNameError\u001b[0m                                 Traceback (most recent call last)",
      "\u001b[0;32m/var/folders/w5/dk6ny3710vz1s6v9cv1gv6jc0000gn/T/ipykernel_54823/1596352441.py\u001b[0m in \u001b[0;36m<module>\u001b[0;34m\u001b[0m\n\u001b[0;32m----> 1\u001b[0;31m \u001b[0mmodel\u001b[0m \u001b[0;34m=\u001b[0m \u001b[0mpyo\u001b[0m\u001b[0;34m.\u001b[0m\u001b[0mConcreteModel\u001b[0m\u001b[0;34m(\u001b[0m\u001b[0mname\u001b[0m \u001b[0;34m=\u001b[0m \u001b[0;34m\"Stochastic Model\"\u001b[0m\u001b[0;34m)\u001b[0m\u001b[0;34m\u001b[0m\u001b[0;34m\u001b[0m\u001b[0m\n\u001b[0m\u001b[1;32m      2\u001b[0m \u001b[0mmodel\u001b[0m\u001b[0;34m.\u001b[0m\u001b[0mdual\u001b[0m \u001b[0;34m=\u001b[0m \u001b[0mpyo\u001b[0m\u001b[0;34m.\u001b[0m\u001b[0mSuffix\u001b[0m\u001b[0;34m(\u001b[0m\u001b[0mdirection\u001b[0m\u001b[0;34m=\u001b[0m\u001b[0mpyo\u001b[0m\u001b[0;34m.\u001b[0m\u001b[0mSuffix\u001b[0m\u001b[0;34m.\u001b[0m\u001b[0mIMPORT\u001b[0m\u001b[0;34m)\u001b[0m\u001b[0;34m\u001b[0m\u001b[0;34m\u001b[0m\u001b[0m\n\u001b[1;32m      3\u001b[0m \u001b[0;34m\u001b[0m\u001b[0m\n\u001b[1;32m      4\u001b[0m \u001b[0;31m##\u001b[0m\u001b[0;34m\u001b[0m\u001b[0;34m\u001b[0m\u001b[0m\n\u001b[1;32m      5\u001b[0m \u001b[0;31m# 1. Decision variables\u001b[0m\u001b[0;34m\u001b[0m\u001b[0;34m\u001b[0m\u001b[0m\n",
      "\u001b[0;31mNameError\u001b[0m: name 'pyo' is not defined"
     ]
    }
   ],
   "source": [
    "model = pyo.ConcreteModel(name = \"Stochastic Model\")\n",
    "model.dual = pyo.Suffix(direction=pyo.Suffix.IMPORT)\n",
    "\n",
    "##\n",
    "# 1. Decision variables\n",
    "##\n",
    "\n",
    "model.Pc = pyo.Var(domain=pyo.NonNegativeReals)\n",
    "model.P1 = pyo.Var(domain=pyo.NonNegativeReals)\n",
    "model.P2 = pyo.Var(domain=pyo.NonNegativeReals)\n",
    "model.P3 = pyo.Var(domain=pyo.NonNegativeReals)\n",
    "\n",
    "##\n",
    "# 2. Objective function\n",
    "##\n",
    "\n",
    "model.profit = pyo.Objective(\n",
    "    expr = (168 * (45 * model.Pc + 0.2 * 50 * model.P1 + 0.6 * 46 * model.P2 + 0.2 * 44 * model.P3)),\n",
    "    sense = pyo.minimize,\n",
    ")\n",
    "\n",
    "##\n",
    "# 3. Constraints\n",
    "##\n",
    "\n",
    "model.demand1 = pyo.Constraint(expr = model.Pc + model.P1 >=  110)\n",
    "model.demand2= pyo.Constraint(expr = model.Pc + model.P2 >=  100)\n",
    "model.demand3 = pyo.Constraint(expr = model.Pc + model.P3 >=  80)\n",
    "\n",
    "model.LowerLimitc = pyo.Constraint(expr = model.Pc >= 0)\n",
    "model.LowerLimit1 = pyo.Constraint(expr = model.P1 >= 0)\n",
    "model.LowerLimit2 = pyo.Constraint(expr = model.P2 >= 0)\n",
    "model.LowerLimit3 = pyo.Constraint(expr = model.P3 >= 0)\n",
    "\n",
    "model.UpperLimit2 = pyo.Constraint(expr = model.Pc <= 90)\n",
    "\n",
    "# Solve the problem\n",
    "solver = pyo.SolverFactory('glpk')\n",
    "solver.solve(model)\n"
   ]
  },
  {
   "cell_type": "code",
   "execution_count": null,
   "id": "23e82951-dd08-4e32-b031-00c0f3e7b1f7",
   "metadata": {},
   "outputs": [],
   "source": [
    "summarise_results(model)"
   ]
  }
 ],
 "metadata": {
  "colab": {
   "collapsed_sections": [],
   "provenance": []
  },
  "kernelspec": {
   "display_name": "Python 3 (ipykernel)",
   "language": "python",
   "name": "python3"
  },
  "language_info": {
   "codemirror_mode": {
    "name": "ipython",
    "version": 3
   },
   "file_extension": ".py",
   "mimetype": "text/x-python",
   "name": "python",
   "nbconvert_exporter": "python",
   "pygments_lexer": "ipython3",
   "version": "3.9.7"
  }
 },
 "nbformat": 4,
 "nbformat_minor": 5
}
