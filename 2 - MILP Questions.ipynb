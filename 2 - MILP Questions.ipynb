{
 "cells": [
  {
   "cell_type": "markdown",
   "id": "9195893f-cda6-41f1-a2c2-29627bdc0a77",
   "metadata": {},
   "source": [
    "If you are running this on Google Colab, you need to uncomment (remove the `#`) and execute the following lines to install the Pyomo package, the solver, and some helper tools. If you are running this on Binder or elsewhere (e.g. your own computer) you can ignore this."
   ]
  },
  {
   "cell_type": "code",
   "execution_count": 1,
   "id": "498eca95-d5e7-4de5-ad3d-c82a6f66eb01",
   "metadata": {
    "tags": []
   },
   "outputs": [],
   "source": [
    "# !pip install pyomo==6.4.1\n",
    "# !apt install glpk-utils\n",
    "# !pip install \"git+https://github.com/sjpfenninger/sen1511.git#egg=sen1511utils&subdirectory=sen1511utils\""
   ]
  },
  {
   "cell_type": "code",
   "execution_count": 2,
   "id": "1086144f-da10-4679-962a-7dd7ab4c1538",
   "metadata": {},
   "outputs": [],
   "source": [
    "import pyomo.environ as pyo\n",
    "\n",
    "from sen1511utils import summarise_results"
   ]
  },
  {
   "cell_type": "markdown",
   "id": "af0430fd",
   "metadata": {},
   "source": [
    "# Assignment 2 - Mixed-integer linear programming (MILP)"
   ]
  },
  {
   "cell_type": "markdown",
   "id": "1ea58c20",
   "metadata": {},
   "source": [
    "## 4)"
   ]
  },
  {
   "cell_type": "markdown",
   "id": "6193a7e2-9b54-4bca-a511-e0b366e07ba5",
   "metadata": {},
   "source": [
    "Consider three generating units and two demands. Each unit offers three blocks, while each demand bids four blocks. The technical characteristics of the generating units are given in the table as follows:\n",
    "\n",
    "| Unit Data | Unit 1 | Unit 2 | Unit 3|\n",
    "|:---|---:|---:|---:|\n",
    "| Capacity (MW) | 30 | 25 | 25 |\n",
    "| Minimum Power Output (MW) | 5 | 8 | 10 |\n",
    "| Ramp up/down limit (MW/h) | 5 | 10 | 10 |\n",
    "| Initial Status (on/off) | on | on | on |\n",
    "| Initial power output (MW) | 10 | 15 | 10 |\n",
    "\n",
    "Offers by generators and bids by demands are as follows:\n",
    "\n",
    "| Offers | Unit 1 | Unit 2 | Unit 3|\n",
    "|:---|---:|---:|---:|\n",
    "| Block |  1 2 3  |  1 2 3   |  1 2 3   |\n",
    "| Power (MW) | 5 12 13 |  8 8 9  | 10 10 5 |\n",
    "| Price ($/MWh) | 1 3 3.5 | 4.5 5 6 |  8 9 10 |\n",
    "\n",
    "\n",
    "| Bids | Demand 1 | Demand 2 |\n",
    "|:---|---:|---:|\n",
    "| Block |  1 2 3 4 |  1 2 3 4  | \n",
    "| Energy (MWh) | 6 5 5 3 |   5 4 4 3 |\n",
    "| Price ($/MWh) | 20 15 7 4 | 18 16 11 3 |\n",
    "\n",
    "Task 4.a) is solved on paper."
   ]
  },
  {
   "cell_type": "markdown",
   "id": "b161c6d3-2c36-44a4-927b-84c6821af5ed",
   "metadata": {
    "tags": []
   },
   "source": [
    "## 4.b)"
   ]
  },
  {
   "cell_type": "markdown",
   "id": "82eeeaa2-8a79-4c0b-8630-52bd1b7405b4",
   "metadata": {},
   "source": [
    "Calculate the market clearing price and the social welfare in Python for the following cases:\n"
   ]
  },
  {
   "cell_type": "markdown",
   "id": "58a985a0-ac0c-4817-9f1a-7f00d2b99b12",
   "metadata": {},
   "source": [
    "## Case 4.b.1:\n",
    "Minimum power output and ramping constraints are not taken into account"
   ]
  },
  {
   "cell_type": "code",
   "execution_count": null,
   "id": "9868f64f-b662-45d9-8a39-f9b03ae7026d",
   "metadata": {},
   "outputs": [],
   "source": []
  },
  {
   "cell_type": "markdown",
   "id": "0eee0f5f-1e4e-40a0-a79f-052165a322ec",
   "metadata": {},
   "source": [
    "## Case 4.b.2:\n",
    "Minimum power output and ramping constraints are taken into account!"
   ]
  },
  {
   "cell_type": "code",
   "execution_count": null,
   "id": "c5088941-d029-4fc5-afd7-81d13515efa2",
   "metadata": {},
   "outputs": [],
   "source": []
  },
  {
   "cell_type": "markdown",
   "id": "059180a0-f012-42d8-9449-77707e82ca78",
   "metadata": {},
   "source": [
    "## I do not know which question is this one"
   ]
  },
  {
   "cell_type": "code",
   "execution_count": null,
   "id": "41cefc0d-c499-4c6e-a6dc-a87d5ea8a4b7",
   "metadata": {},
   "outputs": [],
   "source": []
  }
 ],
 "metadata": {
  "kernelspec": {
   "display_name": "Python 3 (ipykernel)",
   "language": "python",
   "name": "python3"
  },
  "language_info": {
   "codemirror_mode": {
    "name": "ipython",
    "version": 3
   },
   "file_extension": ".py",
   "mimetype": "text/x-python",
   "name": "python",
   "nbconvert_exporter": "python",
   "pygments_lexer": "ipython3",
   "version": "3.10.5"
  }
 },
 "nbformat": 4,
 "nbformat_minor": 5
}
